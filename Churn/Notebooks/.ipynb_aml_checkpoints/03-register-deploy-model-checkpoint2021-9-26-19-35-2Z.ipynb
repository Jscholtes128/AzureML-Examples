{
  "cells": [
    {
      "cell_type": "code",
      "source": [
        "from azureml.core.webservice import AciWebservice, Webservice\r\n",
        "from azureml.core.image import ContainerImage\r\n",
        "from azureml.core.experiment import Experiment\r\n",
        "from azureml.core.workspace import Workspace\r\n",
        "from azureml.core.environment import Environment\r\n",
        "from azureml.core.conda_dependencies import CondaDependencies\r\n",
        "from azureml.core.model import InferenceConfig,Model\r\n",
        "\r\n",
        "import sys"
      ],
      "outputs": [],
      "execution_count": 1,
      "metadata": {
        "gather": {
          "logged": 1634313118995
        }
      }
    },
    {
      "cell_type": "code",
      "source": [
        "ws = Workspace.from_config()"
      ],
      "outputs": [],
      "execution_count": 2,
      "metadata": {
        "jupyter": {
          "source_hidden": false,
          "outputs_hidden": false
        },
        "nteract": {
          "transient": {
            "deleting": false
          }
        },
        "gather": {
          "logged": 1634313122716
        }
      }
    },
    {
      "cell_type": "code",
      "source": [
        "webservice_name = 'churn-classifier'\r\n",
        "\r\n",
        "run = [x for x in ws.experiments['churn-classifier'].get_runs()][0]\r\n",
        "run_metrics = run.get_metrics()\r\n",
        "\r\n",
        "print(run)\r\n",
        "\r\n",
        "model = run.register_model(model_name = \"churn-classifier\", model_path = \"outputs/model.pkl\", tags={\"accuracy\":run_metrics[\"accuracy\"],\"python version\": sys.version[0:6]})\r\n",
        "\r\n",
        "deployment_config = AciWebservice.deploy_configuration(cpu_cores = 1, memory_gb = 1,auth_enabled=True,enable_app_insights=True)"
      ],
      "outputs": [
        {
          "output_type": "stream",
          "name": "stdout",
          "text": "Run(Experiment: churn-classifier,\nId: 3c5d7741-4579-4f3d-ba70-4e5a4a6738d4,\nType: None,\nStatus: Completed)\n"
        }
      ],
      "execution_count": 3,
      "metadata": {
        "jupyter": {
          "source_hidden": false,
          "outputs_hidden": false
        },
        "nteract": {
          "transient": {
            "deleting": false
          }
        },
        "gather": {
          "logged": 1634313125712
        }
      }
    },
    {
      "cell_type": "code",
      "source": [
        "myenv = Environment.get(ws,name=\"sklearn_22_2\")\r\n",
        "myenv.inferencing_stack_version = \"latest\"\r\n",
        "\r\n",
        "\r\n",
        "inference_config = InferenceConfig(entry_script=\"score.py\",\r\n",
        "                                   environment=myenv)\r\n",
        "                               \r\n",
        "try:\r\n",
        "    service = Webservice(ws, webservice_name)        \r\n",
        "    service.delete()    \r\n",
        "except Exception as e:\r\n",
        "    print(\"No Existing Service\")\r\n",
        "\r\n",
        "service = Model.deploy(ws, webservice_name, [model], inference_config, deployment_config)\r\n",
        "\r\n",
        "#service.get_logs()\r\n",
        "service.wait_for_deployment(show_output = True)\r\n",
        "\r\n",
        "#print(service.get_keys())\r\n",
        "print(service.scoring_uri)"
      ],
      "outputs": [
        {
          "output_type": "stream",
          "name": "stdout",
          "text": "No Existing Service\nTips: You can try get_logs(): https://aka.ms/debugimage#dockerlog or local deployment: https://aka.ms/debugimage#debug-locally to debug if deployment takes longer than 10 minutes.\nRunning\n2021-10-15 15:52:31+00:00 Creating Container Registry if not exists.\n2021-10-15 15:52:31+00:00 Registering the environment.\n2021-10-15 15:52:33+00:00 Building image."
        }
      ],
      "execution_count": 4,
      "metadata": {
        "jupyter": {
          "source_hidden": false,
          "outputs_hidden": false
        },
        "nteract": {
          "transient": {
            "deleting": false
          }
        },
        "gather": {
          "logged": 1632751953678
        }
      }
    }
  ],
  "metadata": {
    "kernelspec": {
      "name": "python3-azureml",
      "language": "python",
      "display_name": "Python 3.6 - AzureML"
    },
    "language_info": {
      "name": "python",
      "version": "3.6.9",
      "mimetype": "text/x-python",
      "codemirror_mode": {
        "name": "ipython",
        "version": 3
      },
      "pygments_lexer": "ipython3",
      "nbconvert_exporter": "python",
      "file_extension": ".py"
    },
    "kernel_info": {
      "name": "python3-azureml"
    },
    "microsoft": {
      "host": {
        "AzureML": {
          "notebookHasBeenCompleted": true
        }
      }
    },
    "nteract": {
      "version": "nteract-front-end@1.0.0"
    }
  },
  "nbformat": 4,
  "nbformat_minor": 0
}