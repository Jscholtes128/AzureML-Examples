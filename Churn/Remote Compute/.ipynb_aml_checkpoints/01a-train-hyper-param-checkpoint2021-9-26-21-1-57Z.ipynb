{
  "cells": [
    {
      "cell_type": "code",
      "source": [
        "from azureml.train.hyperdrive import BayesianParameterSampling, choice, uniform\r\n",
        "from azureml.train.hyperdrive import BanditPolicy\r\n",
        "from azureml.core import Workspace\r\n",
        "from azureml.core import Experiment, Environment\r\n",
        "from azureml.train.hyperdrive import HyperDriveConfig, PrimaryMetricGoal\r\n",
        "\r\n",
        "param_space = {\r\n",
        "                 '--n_estimators': choice(5, 50, 100,500),\r\n",
        "                 '--max_depth': choice(range(1,3))\r\n",
        "              }\r\n",
        "\r\n",
        "#Bayesian tries to select parameter combinations that will result in improved performance from the previous selection\r\n",
        "param_sampling = BayesianParameterSampling(param_space)\r\n",
        "\r\n",
        "\r\n",
        "#bandit policy to stop a run if the target performance metric underperforms the best run so far by a specified margin\r\n",
        "\r\n",
        "early_termination_policy = BanditPolicy(slack_amount = 0.2,\r\n",
        "                                        evaluation_interval=1,\r\n",
        "                                        delay_evaluation=5)\r\n",
        "\r\n",
        "\r\n",
        "\r\n",
        "hyperdrive = HyperDriveConfig(run_config=script_config,\r\n",
        "                              hyperparameter_sampling=param_sampling,\r\n",
        "                              policy=None,\r\n",
        "                              primary_metric_name='Accuracy',\r\n",
        "                              primary_metric_goal=PrimaryMetricGoal.MAXIMIZE,\r\n",
        "                              max_total_runs=6,\r\n",
        "                              max_concurrent_runs=4)\r\n",
        "\r\n",
        "experiment = Experiment(workspace = ws, name = 'hyperdrive_training')\r\n",
        "hyperdrive_run = experiment.submit(config=hyperdrive)\r\n"
      ],
      "outputs": [],
      "execution_count": 2,
      "metadata": {
        "gather": {
          "logged": 1635279656893
        }
      }
    }
  ],
  "metadata": {
    "kernelspec": {
      "name": "python3-azureml",
      "language": "python",
      "display_name": "Python 3.6 - AzureML"
    },
    "language_info": {
      "name": "python",
      "version": "3.6.9",
      "mimetype": "text/x-python",
      "codemirror_mode": {
        "name": "ipython",
        "version": 3
      },
      "pygments_lexer": "ipython3",
      "nbconvert_exporter": "python",
      "file_extension": ".py"
    },
    "kernel_info": {
      "name": "python3-azureml"
    },
    "microsoft": {
      "host": {
        "AzureML": {
          "notebookHasBeenCompleted": true
        }
      }
    },
    "nteract": {
      "version": "nteract-front-end@1.0.0"
    }
  },
  "nbformat": 4,
  "nbformat_minor": 0
}