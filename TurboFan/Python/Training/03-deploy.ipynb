{
  "cells": [
    {
      "cell_type": "code",
      "source": [
        "from azureml.core.webservice import AciWebservice, Webservice\r\n",
        "from azureml.core.image import ContainerImage\r\n",
        "from azureml.core.experiment import Experiment\r\n",
        "from azureml.core.workspace import Workspace\r\n",
        "from azureml.core.environment import Environment\r\n",
        "from azureml.core.conda_dependencies import CondaDependencies\r\n",
        "from azureml.core.model import InferenceConfig,Model\r\n",
        "import sys"
      ],
      "outputs": [],
      "execution_count": 1,
      "metadata": {
        "gather": {
          "logged": 1632751271746
        }
      }
    },
    {
      "cell_type": "code",
      "source": [
        "ws = Workspace.from_config()"
      ],
      "outputs": [],
      "execution_count": 2,
      "metadata": {
        "jupyter": {
          "source_hidden": false,
          "outputs_hidden": false
        },
        "nteract": {
          "transient": {
            "deleting": false
          }
        },
        "gather": {
          "logged": 1632751272623
        }
      }
    },
    {
      "cell_type": "code",
      "source": [
        "webservice_name = 'turbofan-rul'\r\n",
        "\r\n",
        "run = [x for x in ws.experiments['gbr-turbofan'].get_runs()][0]\r\n",
        "run_metrics = run.get_metrics()\r\n",
        "\r\n",
        "print(run)\r\n",
        "\r\n",
        "model = run.register_model(model_name = \"turbofan-rul\", model_path = \"outputs/model.pkl\", tags={\"mae\":run_metrics[\"mae\"],\"python version\": sys.version[0:6]})\r\n",
        "\r\n",
        "deployment_config = AciWebservice.deploy_configuration(cpu_cores = 1, memory_gb = 1,auth_enabled=True,enable_app_insights=True)"
      ],
      "outputs": [
        {
          "output_type": "stream",
          "name": "stdout",
          "text": "Run(Experiment: gbr-turbofan,\nId: 250790bf-8f89-47db-9fa8-b193b6d3b95b,\nType: None,\nStatus: Completed)\n"
        }
      ],
      "execution_count": 3,
      "metadata": {
        "jupyter": {
          "source_hidden": false,
          "outputs_hidden": false
        },
        "nteract": {
          "transient": {
            "deleting": false
          }
        },
        "gather": {
          "logged": 1632751274623
        }
      }
    },
    {
      "cell_type": "code",
      "source": [
        "myenv = Environment.get(ws,name=\"sklearn_20_2\")\r\n",
        "myenv.inferencing_stack_version = \"latest\"\r\n",
        "\r\n",
        "#myenv = Environment(name=\"turbofan\")\r\n",
        "#conda_dep = CondaDependencies(\"turbofan.yml\")\r\n",
        "\r\n",
        "#myenv.python.conda_dependencies=conda_dep\r\n",
        "\r\n",
        "inference_config = InferenceConfig(entry_script=\"score.py\",\r\n",
        "                                   environment=myenv)\r\n",
        "                               \r\n",
        "try:\r\n",
        "    service = Webservice(ws, webservice_name)        \r\n",
        "    service.delete()    \r\n",
        "except Exception as e:\r\n",
        "    print(\"No Existing Service\")\r\n",
        "\r\n",
        "service = Model.deploy(ws, webservice_name, [model], inference_config, deployment_config)\r\n",
        "\r\n",
        "#service.get_logs()\r\n",
        "service.wait_for_deployment(show_output = True)\r\n",
        "\r\n",
        "#print(service.get_keys())\r\n",
        "print(service.scoring_uri)"
      ],
      "outputs": [
        {
          "output_type": "stream",
          "name": "stdout",
          "text": "Tips: You can try get_logs(): https://aka.ms/debugimage#dockerlog or local deployment: https://aka.ms/debugimage#debug-locally to debug if deployment takes longer than 10 minutes.\nRunning\n2021-09-27 14:02:01+00:00 Creating Container Registry if not exists.\n2021-09-27 14:02:01+00:00 Registering the environment.\n2021-09-27 14:02:02+00:00 Use the existing image.\n2021-09-27 14:02:03+00:00 Generating deployment configuration.\n2021-09-27 14:02:03+00:00 Submitting deployment to compute.\n2021-09-27 14:02:09+00:00 Checking the status of deployment turbofan-rul..\n2021-09-27 14:12:28+00:00 Checking the status of inference endpoint turbofan-rul.\nSucceeded\nACI service creation operation finished, operation \"Succeeded\"\nhttp://e0c092f2-5f06-4c18-8730-decb67ce980e.southcentralus.azurecontainer.io/score\n"
        }
      ],
      "execution_count": 4,
      "metadata": {
        "jupyter": {
          "source_hidden": false,
          "outputs_hidden": false
        },
        "nteract": {
          "transient": {
            "deleting": false
          }
        },
        "gather": {
          "logged": 1632751953678
        }
      }
    }
  ],
  "metadata": {
    "kernelspec": {
      "name": "python3-azureml",
      "language": "python",
      "display_name": "Python 3.6 - AzureML"
    },
    "language_info": {
      "name": "python",
      "version": "3.6.9",
      "mimetype": "text/x-python",
      "codemirror_mode": {
        "name": "ipython",
        "version": 3
      },
      "pygments_lexer": "ipython3",
      "nbconvert_exporter": "python",
      "file_extension": ".py"
    },
    "kernel_info": {
      "name": "python3-azureml"
    },
    "microsoft": {
      "host": {
        "AzureML": {
          "notebookHasBeenCompleted": true
        }
      }
    },
    "nteract": {
      "version": "nteract-front-end@1.0.0"
    }
  },
  "nbformat": 4,
  "nbformat_minor": 2
}