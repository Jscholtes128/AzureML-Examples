{
  "cells": [
    {
      "cell_type": "code",
      "source": [
        "from azureml.core import Workspace\r\n",
        "from azureml.core import Experiment, Environment\r\n",
        "from azureml.pipeline.core import Pipeline\r\n",
        "from azureml.data.data_reference import DataReference\r\n",
        "from azureml.core.compute import AmlCompute, ComputeTarget\r\n",
        "from azureml.core.runconfig import RunConfiguration\r\n",
        "from modules.ingestion.data_ingestion_step import data_ingestion_step\r\n",
        "from modules.preprocess.data_preprocess_step import data_preprocess_step\r\n",
        "from modules.train.train_step import train_step\r\n",
        "from modules.evaluate.evaluate_step import evaluate_step\r\n",
        "from modules.explainer.explainer_step import explainer_step\r\n",
        "from modules.deploy.deployTest_step import deployTest_step\r\n",
        "from modules.deploy.deployProd_step import deployProd_step\r\n",
        "from azureml.pipeline.core import PipelineData\r\n",
        "\r\n",
        "import json"
      ],
      "outputs": [],
      "execution_count": 1,
      "metadata": {
        "gather": {
          "logged": 1635276208420
        }
      }
    },
    {
      "cell_type": "code",
      "source": [
        "ws = Workspace.from_config()\r\n",
        "\r\n",
        "datastore = ws.get_default_datastore()\r\n",
        "\r\n",
        "datastore = DataReference(datastore, mode='mount')"
      ],
      "outputs": [],
      "execution_count": 2,
      "metadata": {
        "jupyter": {
          "source_hidden": false,
          "outputs_hidden": false
        },
        "nteract": {
          "transient": {
            "deleting": false
          }
        },
        "gather": {
          "logged": 1635276209233
        }
      }
    },
    {
      "cell_type": "code",
      "source": [
        "# Create CPU compute target\r\n",
        "print('Creating CPU compute target ...')\r\n",
        "cpu_cluster_name = 'cpuclst'\r\n",
        "#cpu_compute_config = AmlCompute.provisioning_configuration(vm_size='STANDARD_DS3_V2', \r\n",
        "                                                           #idle_seconds_before_scaledown=1200,\r\n",
        "                                                           #min_nodes=0, \r\n",
        "                                                           #max_nodes=2)\r\n",
        "#cpu_compute_target = ComputeTarget.create(ws, cpu_cluster_name, cpu_compute_config)\r\n",
        "#cpu_compute_target.wait_for_completion(show_output=True)\r\n",
        "\r\n",
        "\r\n",
        "cpu_compute_target = ComputeTarget(workspace=ws, name=cpu_cluster_name)\r\n",
        "\r\n",
        "adb_compute_target = ComputeTarget(workspace=ws, name='databricks')\r\n",
        "\r\n",
        "\r\n",
        "aml_run_config = RunConfiguration()\r\n",
        "aml_run_config.target = cpu_compute_target\r\n",
        "curated_environment = Environment.get(workspace=ws,name=\"sklearn_22_2\")# name=\"AzureML-sklearn-0.24-ubuntu18.04-py37-cpu\")\r\n",
        "aml_run_config.environment = curated_environment"
      ],
      "outputs": [
        {
          "output_type": "stream",
          "name": "stdout",
          "text": "Creating CPU compute target ...\n"
        }
      ],
      "execution_count": 3,
      "metadata": {
        "jupyter": {
          "source_hidden": false,
          "outputs_hidden": false
        },
        "nteract": {
          "transient": {
            "deleting": false
          }
        },
        "gather": {
          "logged": 1635276209797
        }
      }
    },
    {
      "cell_type": "code",
      "source": [
        "# Step 1: Data ingestion Azure Databricks\r\n",
        "data_ingestion_step, data_ingestion_outputs = data_ingestion_step(datastore, adb_compute_target)\r\n",
        "\r\n",
        "# Step 2: Data preprocessing \r\n",
        "data_preprocess_step, data_preprocess_outputs = data_preprocess_step(data_ingestion_outputs, cpu_compute_target,aml_run_config)\r\n",
        "\r\n",
        "# Step 3: Train Model\r\n",
        "train_step, train_outputs = train_step(data_preprocess_outputs['train_dir'], cpu_compute_target,aml_run_config)\r\n",
        "\r\n",
        "# Step 4: Evaluate Model\r\n",
        "evaluate_step, evaluate_outputs = evaluate_step(train_outputs['model_dir'], data_preprocess_outputs['test_dir'], cpu_compute_target,aml_run_config)\r\n",
        "\r\n",
        "# Step 5: Evaluate Model\r\n",
        "explainer_step = explainer_step(train_outputs['model_dir'], data_preprocess_outputs['test_dir'],data_preprocess_outputs['train_dir'], cpu_compute_target,aml_run_config)\r\n",
        "\r\n",
        "# Step 6: Deploy Model Test\r\n",
        "deploy_test_step, deploytest_outputs = deployTest_step(train_outputs['model_dir'],evaluate_outputs['accuracy_file'], data_preprocess_outputs['test_dir'], cpu_compute_target,aml_run_config)\r\n",
        "\r\n",
        "# Step 7: Deploy Model Prod\r\n",
        "#deploy_prod_step, deployprod_outputs = deployProd_step( evaluate_outputs['accuracy_file'], data_preprocess_outputs['test_dir'],cpu_compute_target,aml_run_config)\r\n"
      ],
      "outputs": [],
      "execution_count": 4,
      "metadata": {
        "jupyter": {
          "source_hidden": false,
          "outputs_hidden": false
        },
        "nteract": {
          "transient": {
            "deleting": false
          }
        },
        "gather": {
          "logged": 1635276210443
        }
      }
    },
    {
      "cell_type": "code",
      "source": [
        "# Submit pipeline\r\n",
        "print('Submitting pipeline ...')\r\n",
        "pipeline_parameters = {\r\n",
        "    'n_estimators': 50 \r\n",
        "}\r\n",
        "pipeline_parameters_old = {\r\n",
        "    'max_depth': 5,\r\n",
        "    'n_estimators': 500,\r\n",
        "    'prod_deploy': 0,\r\n",
        "    'endpoint_traffic_pct': 10,\r\n",
        "    'set_endpoint_as_default': 0\r\n",
        "}\r\n",
        "\r\n",
        "\r\n",
        "# Submit pipeline\r\n",
        "print('Submitting pipeline ...')\r\n",
        "\r\n",
        "pipeline = Pipeline(workspace=ws, steps=[data_ingestion_step,data_preprocess_step,train_step,evaluate_step,explainer_step,deploy_test_step])\r\n",
        "pipeline_run = Experiment(ws, 'churn-pipeline').submit(pipeline,pipeline_parameters=pipeline_parameters,regenerate_outputs=True)"
      ],
      "outputs": [
        {
          "output_type": "stream",
          "name": "stdout",
          "text": "Submitting pipeline ...\nSubmitting pipeline ...\nCreated step adb-churn-ingest [98807c30][2366369e-bdb3-4c06-9cbc-9d6b927c403f], (This step will run and generate new outputs)\nCreated step data_preprocess.py [23c2a1d7][64380990-93da-43de-a449-e59e66cf1a7d], (This step will run and generate new outputs)\nCreated step train_data [147d7dd6][f85efd2a-12e2-48f2-8fb0-55f49b4bd449], (This step will run and generate new outputs)\nCreated step eval [8fca5c93][742643b1-2585-4ebe-8c18-343536179a29], (This step will run and generate new outputs)\nCreated step explainer [75e845d2][e4a81f9a-02cb-4052-a7d3-fb8bdf61ab61], (This step will run and generate new outputs)\nCreated data reference workspaceblobstore for StepId [b771ea34][3e0b8a11-a80d-447f-9f2a-494b97d25d40], (Consumers of this data will generate new runs.)\nSubmitted PipelineRun e05a4fcc-b1bc-419d-ba7d-768c61e9fd83\nLink to Azure Machine Learning Portal: https://ml.azure.com/runs/e05a4fcc-b1bc-419d-ba7d-768c61e9fd83?wsid=/subscriptions/0a6d383c-9ce6-490d-89b8-47e6231192c3/resourcegroups/ai-workshop/workspaces/aiw-ml&tid=72f988bf-86f1-41af-91ab-2d7cd011db47\n"
        }
      ],
      "execution_count": 5,
      "metadata": {
        "jupyter": {
          "source_hidden": false,
          "outputs_hidden": false
        },
        "nteract": {
          "transient": {
            "deleting": false
          }
        },
        "gather": {
          "logged": 1635276219766
        }
      }
    }
  ],
  "metadata": {
    "kernelspec": {
      "name": "python3-azureml",
      "language": "python",
      "display_name": "Python 3.6 - AzureML"
    },
    "language_info": {
      "name": "python",
      "version": "3.6.9",
      "mimetype": "text/x-python",
      "codemirror_mode": {
        "name": "ipython",
        "version": 3
      },
      "pygments_lexer": "ipython3",
      "nbconvert_exporter": "python",
      "file_extension": ".py"
    },
    "kernel_info": {
      "name": "python3-azureml"
    },
    "microsoft": {
      "host": {
        "AzureML": {
          "notebookHasBeenCompleted": true
        }
      }
    },
    "nteract": {
      "version": "nteract-front-end@1.0.0"
    }
  },
  "nbformat": 4,
  "nbformat_minor": 0
}