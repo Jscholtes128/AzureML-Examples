{
  "cells": [
    {
      "cell_type": "code",
      "source": [
        "from sklearn.ensemble import GradientBoostingRegressor\r\n",
        "import numpy as np\r\n",
        "import pandas as pd\r\n",
        "from sklearn.model_selection import train_test_split\r\n",
        "from sklearn.metrics import mean_squared_error\r\n",
        "from sklearn.datasets import load_boston\r\n",
        "from sklearn.metrics import mean_absolute_error\r\n",
        "from azureml.core.experiment import Experiment\r\n",
        "from azureml.core.workspace import Workspace,Dataset\r\n",
        "from random import randrange,randint\r\n",
        "from sklearn.externals import joblib\r\n",
        "import sys"
      ],
      "outputs": [
        {
          "output_type": "stream",
          "name": "stderr",
          "text": "/anaconda/envs/azureml_py36/lib/python3.6/site-packages/sklearn/externals/joblib/__init__.py:15: FutureWarning: sklearn.externals.joblib is deprecated in 0.21 and will be removed in 0.23. Please import this functionality directly from joblib, which can be installed with: pip install joblib. If this warning is raised when loading pickled models, you may need to re-serialize those models with scikit-learn 0.21+.\n  warnings.warn(msg, category=FutureWarning)\n"
        }
      ],
      "execution_count": 1,
      "metadata": {
        "gather": {
          "logged": 1632722315766
        }
      }
    },
    {
      "cell_type": "code",
      "source": [
        "ws = Workspace.from_config()"
      ],
      "outputs": [],
      "execution_count": 2,
      "metadata": {
        "jupyter": {
          "source_hidden": false,
          "outputs_hidden": false
        },
        "nteract": {
          "transient": {
            "deleting": false
          }
        },
        "gather": {
          "logged": 1632722316598
        }
      }
    },
    {
      "cell_type": "code",
      "source": [
        "max_depth = randint(2,10)\r\n",
        "n_estimators = int(randrange(2000,5000,100))"
      ],
      "outputs": [],
      "execution_count": 3,
      "metadata": {
        "jupyter": {
          "source_hidden": false,
          "outputs_hidden": false
        },
        "nteract": {
          "transient": {
            "deleting": false
          }
        },
        "gather": {
          "logged": 1632722316815
        }
      }
    },
    {
      "cell_type": "code",
      "source": [
        "experiment = Experiment(ws, 'gbr-turbofan')\r\n",
        "\r\n",
        "dataset = Dataset.get_by_name(workspace, name='NASA TurboFan Raw')\r\n",
        "train = dataset.to_pandas_dataframe()\r\n",
        "\r\n",
        "X = train.drop('rul',axis=1)\r\n",
        "y = pd.Series(train.rul)\r\n",
        "\r\n",
        "\r\n",
        "run =  experiment.start_logging()\r\n",
        "run.tag(\"python version\", sys.version[0:6])\r\n",
        "\r\n",
        " # Log the algorithm parameter alpha to the run\r\n",
        "run.log('max_depth', max_depth)\r\n",
        "run.log('n_estimators', n_estimators)\r\n",
        "\r\n",
        "\r\n",
        "X_train, X_test, y_train, y_test = train_test_split(X, y)\r\n",
        "\r\n",
        "\r\n",
        "regression_model = GradientBoostingRegressor(\r\n",
        "    max_depth=max_depth,\r\n",
        "    n_estimators=n_estimators,\r\n",
        "    learning_rate=.5\r\n",
        ")\r\n",
        "\r\n",
        "regression_model.fit(X_train, y_train)\r\n",
        "\r\n",
        "y_pred = regression_model.predict(X_test)\r\n",
        "\r\n",
        "mae = mean_absolute_error(y_test, y_pred)\r\n",
        "run.log('mae', mae)\r\n",
        "\r\n",
        "# Save the model to the outputs directory for capture\r\n",
        "model_file_name = 'outputs/model.pkl'\r\n",
        "\r\n",
        "joblib.dump(value = regression_model, filename = model_file_name)\r\n",
        "\r\n",
        "# upload the model file explicitly into artifacts \r\n",
        "#run.upload_file(name = model_file_name, path_or_stream = model_file_name)\r\n",
        "\r\n",
        "# Complete the run\r\n",
        "run.complete()"
      ],
      "outputs": [],
      "execution_count": 4,
      "metadata": {
        "jupyter": {
          "source_hidden": false,
          "outputs_hidden": false
        },
        "nteract": {
          "transient": {
            "deleting": false
          }
        },
        "gather": {
          "logged": 1632722456647
        }
      }
    }
  ],
  "metadata": {
    "kernelspec": {
      "name": "python3-azureml",
      "language": "python",
      "display_name": "Python 3.6 - AzureML"
    },
    "language_info": {
      "name": "python",
      "version": "3.6.9",
      "mimetype": "text/x-python",
      "codemirror_mode": {
        "name": "ipython",
        "version": 3
      },
      "pygments_lexer": "ipython3",
      "nbconvert_exporter": "python",
      "file_extension": ".py"
    },
    "kernel_info": {
      "name": "python3-azureml"
    },
    "microsoft": {
      "host": {
        "AzureML": {
          "notebookHasBeenCompleted": true
        }
      }
    },
    "nteract": {
      "version": "nteract-front-end@1.0.0"
    }
  },
  "nbformat": 4,
  "nbformat_minor": 0
}