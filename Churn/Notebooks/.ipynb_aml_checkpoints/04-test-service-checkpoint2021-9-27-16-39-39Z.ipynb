{
  "cells": [
    {
      "cell_type": "code",
      "source": [
        "import numpy as np\r\n",
        "import pandas as pd\r\n",
        "import json\r\n",
        "import requests\r\n",
        "from azureml.core.webservice import AciWebservice, Webservice\r\n",
        "from azureml.core.image import ContainerImage\r\n",
        "from azureml.core.experiment import Experiment\r\n",
        "from azureml.core import Workspace, Dataset\r\n"
      ],
      "outputs": [],
      "execution_count": 1,
      "metadata": {
        "gather": {
          "logged": 1635352750962
        }
      }
    },
    {
      "cell_type": "code",
      "source": [
        "ws = Workspace.from_config()"
      ],
      "outputs": [],
      "execution_count": 2,
      "metadata": {
        "jupyter": {
          "source_hidden": false,
          "outputs_hidden": false
        },
        "nteract": {
          "transient": {
            "deleting": false
          }
        },
        "gather": {
          "logged": 1635352751122
        }
      }
    },
    {
      "cell_type": "code",
      "source": [
        "dataset = Dataset.get_by_name(ws, name='Churn')\r\n",
        "df_pd = dataset.to_pandas_dataframe()"
      ],
      "outputs": [
        {
          "output_type": "stream",
          "name": "stdout",
          "text": "Getting data access token with Assigned Identity (client_id=clientid).\n"
        }
      ],
      "execution_count": 3,
      "metadata": {
        "jupyter": {
          "source_hidden": false,
          "outputs_hidden": false
        },
        "nteract": {
          "transient": {
            "deleting": false
          }
        },
        "gather": {
          "logged": 1635352758011
        }
      }
    },
    {
      "cell_type": "code",
      "source": [
        "webservice_name = 'churn-classifier'"
      ],
      "outputs": [],
      "execution_count": 4,
      "metadata": {
        "jupyter": {
          "source_hidden": false,
          "outputs_hidden": false
        },
        "nteract": {
          "transient": {
            "deleting": false
          }
        },
        "gather": {
          "logged": 1635352758151
        }
      }
    },
    {
      "cell_type": "code",
      "source": [
        "service = Webservice(ws, webservice_name) \r\n",
        "\r\n",
        "uri = service.scoring_uri\r\n",
        "key =service.get_keys()[0]\r\n",
        "\r\n",
        "print(uri)\r\n",
        "\r\n",
        "sampleSize = round(5/len(df_pd),5)\r\n",
        "testdf = df_pd.sample(frac=sampleSize)\r\n",
        "\r\n",
        "X = testdf.drop('Exited',axis=1)\r\n",
        "y = testdf.Exited.tolist()\r\n",
        "\r\n",
        "\r\n",
        "input_data = json.dumps(X.to_json( orient='records')) # Create JSON of sample records    \r\n",
        "\r\n",
        "headers = {'Content-Type':'application/json'}\r\n",
        "\r\n",
        "#for AKS deployment you'd need to the service key in the header as well    \r\n",
        "headers = {'Content-Type':'application/json',  'Authorization':('Bearer '+ key)} \r\n",
        "\r\n",
        "resp = requests.post(uri, input_data, headers=headers)\r\n",
        "try:\r\n",
        "    print(\"POST to url\", uri)\r\n",
        "    print(\"input data:\", input_data)\r\n",
        "    print(\"label:\", y)\r\n",
        "    print(\"prediction:\", resp.text)\r\n",
        "except Exception:\r\n",
        "    print(\"Web Service Not Found\")"
      ],
      "outputs": [
        {
          "output_type": "stream",
          "name": "stdout",
          "text": "http://e915eb4b-856c-4f78-8e76-cd06c848990e.southcentralus.azurecontainer.io/score\nPOST to url http://e915eb4b-856c-4f78-8e76-cd06c848990e.southcentralus.azurecontainer.io/score\ninput data: \"[{\\\"CustomerId\\\":15675949,\\\"Surname\\\":\\\"Fleming\\\",\\\"CreditScore\\\":696,\\\"Geography\\\":\\\"Spain\\\",\\\"Gender\\\":\\\"Female\\\",\\\"Age\\\":43,\\\"Tenure\\\":4,\\\"Balance\\\":0.0,\\\"NumOfProducts\\\":2,\\\"HasCrCard\\\":1,\\\"IsActiveMember\\\":1,\\\"EstimatedSalary\\\":66406.37},{\\\"CustomerId\\\":15738318,\\\"Surname\\\":\\\"Kung\\\",\\\"CreditScore\\\":800,\\\"Geography\\\":\\\"France\\\",\\\"Gender\\\":\\\"Female\\\",\\\"Age\\\":40,\\\"Tenure\\\":5,\\\"Balance\\\":97764.41,\\\"NumOfProducts\\\":1,\\\"HasCrCard\\\":1,\\\"IsActiveMember\\\":0,\\\"EstimatedSalary\\\":98640.15},{\\\"CustomerId\\\":15735549,\\\"Surname\\\":\\\"Lori\\\",\\\"CreditScore\\\":810,\\\"Geography\\\":\\\"Germany\\\",\\\"Gender\\\":\\\"Male\\\",\\\"Age\\\":35,\\\"Tenure\\\":3,\\\"Balance\\\":96814.46,\\\"NumOfProducts\\\":2,\\\"HasCrCard\\\":1,\\\"IsActiveMember\\\":1,\\\"EstimatedSalary\\\":120511.03},{\\\"CustomerId\\\":15774224,\\\"Surname\\\":\\\"Nixon\\\",\\\"CreditScore\\\":613,\\\"Geography\\\":\\\"Germany\\\",\\\"Gender\\\":\\\"Female\\\",\\\"Age\\\":30,\\\"Tenure\\\":5,\\\"Balance\\\":131563.88,\\\"NumOfProducts\\\":2,\\\"HasCrCard\\\":1,\\\"IsActiveMember\\\":0,\\\"EstimatedSalary\\\":170638.98},{\\\"CustomerId\\\":15764195,\\\"Surname\\\":\\\"Newsom\\\",\\\"CreditScore\\\":519,\\\"Geography\\\":\\\"Spain\\\",\\\"Gender\\\":\\\"Male\\\",\\\"Age\\\":39,\\\"Tenure\\\":4,\\\"Balance\\\":111900.14,\\\"NumOfProducts\\\":1,\\\"HasCrCard\\\":1,\\\"IsActiveMember\\\":1,\\\"EstimatedSalary\\\":97577.17}]\"\nlabel: [0, 1, 0, 0, 0]\nprediction: \"[0, 0, 0, 0, 0]\"\n"
        }
      ],
      "execution_count": 5,
      "metadata": {
        "jupyter": {
          "source_hidden": false,
          "outputs_hidden": false
        },
        "nteract": {
          "transient": {
            "deleting": false
          }
        },
        "gather": {
          "logged": 1635352759015
        }
      }
    }
  ],
  "metadata": {
    "kernelspec": {
      "name": "python3-azureml",
      "language": "python",
      "display_name": "Python 3.6 - AzureML"
    },
    "language_info": {
      "name": "python",
      "version": "3.6.9",
      "mimetype": "text/x-python",
      "codemirror_mode": {
        "name": "ipython",
        "version": 3
      },
      "pygments_lexer": "ipython3",
      "nbconvert_exporter": "python",
      "file_extension": ".py"
    },
    "kernel_info": {
      "name": "python3-azureml"
    },
    "nteract": {
      "version": "nteract-front-end@1.0.0"
    },
    "microsoft": {
      "host": {
        "AzureML": {
          "notebookHasBeenCompleted": true
        }
      }
    }
  },
  "nbformat": 4,
  "nbformat_minor": 0
}