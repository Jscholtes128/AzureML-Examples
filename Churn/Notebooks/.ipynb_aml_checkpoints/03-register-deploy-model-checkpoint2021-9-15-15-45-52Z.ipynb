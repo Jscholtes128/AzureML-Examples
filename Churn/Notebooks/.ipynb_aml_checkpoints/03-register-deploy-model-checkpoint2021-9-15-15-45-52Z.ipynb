{
  "cells": [
    {
      "cell_type": "code",
      "source": [
        "from azureml.core.webservice import AciWebservice, Webservice\r\n",
        "from azureml.core.image import ContainerImage\r\n",
        "from azureml.core.experiment import Experiment\r\n",
        "from azureml.core.workspace import Workspace\r\n",
        "from azureml.core.environment import Environment\r\n",
        "from azureml.core.conda_dependencies import CondaDependencies\r\n",
        "from azureml.core.model import InferenceConfig,Model\r\n",
        "\r\n",
        "import sys"
      ],
      "outputs": [],
      "execution_count": 1,
      "metadata": {
        "gather": {
          "logged": 1634310753934
        }
      }
    },
    {
      "cell_type": "code",
      "source": [
        "ws = Workspace.from_config()"
      ],
      "outputs": [],
      "execution_count": 2,
      "metadata": {
        "jupyter": {
          "source_hidden": false,
          "outputs_hidden": false
        },
        "nteract": {
          "transient": {
            "deleting": false
          }
        },
        "gather": {
          "logged": 1634310754724
        }
      }
    },
    {
      "cell_type": "code",
      "source": [
        "webservice_name = 'churn-classifier'\r\n",
        "\r\n",
        "run = [x for x in ws.experiments['churn-classifier'].get_runs()][0]\r\n",
        "run_metrics = run.get_metrics()\r\n",
        "\r\n",
        "print(run)\r\n",
        "\r\n",
        "model = run.register_model(model_name = \"churn-classifier\", model_path = \"outputs/model.pkl\", tags={\"accuracy\":run_metrics[\"accuracy\"],\"python version\": sys.version[0:6]})\r\n",
        "\r\n",
        "deployment_config = AciWebservice.deploy_configuration(cpu_cores = 1, memory_gb = 1,auth_enabled=True,enable_app_insights=True)"
      ],
      "outputs": [
        {
          "output_type": "stream",
          "name": "stdout",
          "text": "Run(Experiment: churn-classifier,\nId: 3c5d7741-4579-4f3d-ba70-4e5a4a6738d4,\nType: None,\nStatus: Completed)\n"
        }
      ],
      "execution_count": 3,
      "metadata": {
        "jupyter": {
          "source_hidden": false,
          "outputs_hidden": false
        },
        "nteract": {
          "transient": {
            "deleting": false
          }
        },
        "gather": {
          "logged": 1634310757717
        }
      }
    },
    {
      "cell_type": "code",
      "source": [
        "myenv = Environment.get(ws,name=\"sklearn_20_2\")\r\n",
        "myenv.inferencing_stack_version = \"latest\"\r\n",
        "\r\n",
        "\r\n",
        "inference_config = InferenceConfig(entry_script=\"score.py\",\r\n",
        "                                   environment=myenv)\r\n",
        "                               \r\n",
        "try:\r\n",
        "    service = Webservice(ws, webservice_name)        \r\n",
        "    service.delete()    \r\n",
        "except Exception as e:\r\n",
        "    print(\"No Existing Service\")\r\n",
        "\r\n",
        "service = Model.deploy(ws, webservice_name, [model], inference_config, deployment_config)\r\n",
        "\r\n",
        "#service.get_logs()\r\n",
        "service.wait_for_deployment(show_output = True)\r\n",
        "\r\n",
        "#print(service.get_keys())\r\n",
        "print(service.scoring_uri)"
      ],
      "outputs": [
        {
          "output_type": "stream",
          "name": "stdout",
          "text": "Tips: You can try get_logs(): https://aka.ms/debugimage#dockerlog or local deployment: https://aka.ms/debugimage#debug-locally to debug if deployment takes longer than 10 minutes.\nRunning\n2021-10-15 15:13:07+00:00 Creating Container Registry if not exists.\n2021-10-15 15:13:07+00:00 Registering the environment.\n2021-10-15 15:13:07+00:00 Use the existing image.\n2021-10-15 15:13:08+00:00 Generating deployment configuration.\n2021-10-15 15:13:08+00:00 Submitting deployment to compute.\n2021-10-15 15:13:12+00:00 Checking the status of deployment churn-classifier..\n2021-10-15 15:20:41+00:00 Checking the status of inference endpoint churn-classifier.\nFailed\n"
        },
        {
          "output_type": "stream",
          "name": "stderr",
          "text": "Service deployment polling reached non-successful terminal state, current service state: Failed\nOperation ID: 48e16d1c-0d46-478c-acca-9087a936fd43\nMore information can be found using '.get_logs()'\nError:\n{\n  \"code\": \"AciDeploymentFailed\",\n  \"statusCode\": 400,\n  \"message\": \"Aci Deployment failed with exception: Your container application crashed. This may be caused by errors in your scoring file's init() function.\n\t1. Please check the logs for your container instance: churn-classifier. From the AML SDK, you can run print(service.get_logs()) if you have service object to fetch the logs.\n\t2. You can interactively debug your scoring file locally. Please refer to https://docs.microsoft.com/azure/machine-learning/how-to-debug-visual-studio-code#debug-and-troubleshoot-deployments for more information.\n\t3. You can also try to run image aiwregistry.azurecr.io/azureml/azureml_e7606bffe4681d4b0c5a18a2f4070c1e locally. Please refer to https://aka.ms/debugimage#service-launch-fails for more information.\",\n  \"details\": [\n    {\n      \"code\": \"CrashLoopBackOff\",\n      \"message\": \"Your container application crashed. This may be caused by errors in your scoring file's init() function.\n\t1. Please check the logs for your container instance: churn-classifier. From the AML SDK, you can run print(service.get_logs()) if you have service object to fetch the logs.\n\t2. You can interactively debug your scoring file locally. Please refer to https://docs.microsoft.com/azure/machine-learning/how-to-debug-visual-studio-code#debug-and-troubleshoot-deployments for more information.\n\t3. You can also try to run image aiwregistry.azurecr.io/azureml/azureml_e7606bffe4681d4b0c5a18a2f4070c1e locally. Please refer to https://aka.ms/debugimage#service-launch-fails for more information.\"\n    },\n    {\n      \"code\": \"AciDeploymentFailed\",\n      \"message\": \"Your container application crashed. Please follow the steps to debug:\n\t1. From the AML SDK, you can run print(service.get_logs()) if you have service object to fetch the logs. Please refer to https://aka.ms/debugimage#dockerlog for more information.\n\t2. If your container application crashed. This may be caused by errors in your scoring file's init() function. You can try debugging locally first. Please refer to https://aka.ms/debugimage#debug-locally for more information.\n\t3. You can also interactively debug your scoring file locally. Please refer to https://docs.microsoft.com/azure/machine-learning/how-to-debug-visual-studio-code#debug-and-troubleshoot-deployments for more information.\n\t4. View the diagnostic events to check status of container, it may help you to debug the issue.\n\"RestartCount\": 3\n\"CurrentState\": {\"state\":\"Waiting\",\"startTime\":null,\"exitCode\":null,\"finishTime\":null,\"detailStatus\":\"CrashLoopBackOff: Back-off restarting failed\"}\n\"PreviousState\": {\"state\":\"Terminated\",\"startTime\":\"2021-10-15T15:23:52.192Z\",\"exitCode\":111,\"finishTime\":\"2021-10-15T15:24:34.299Z\",\"detailStatus\":\"Error\"}\n\"Events\":\n{\"count\":3,\"firstTimestamp\":\"2021-10-15T15:13:18Z\",\"lastTimestamp\":\"2021-10-15T15:20:18Z\",\"name\":\"Pulling\",\"message\":\"pulling image \"aiwregistry.azurecr.io/azureml/azureml_e7606bffe4681d4b0c5a18a2f4070c1e@sha256:f24eadf82cbaee7b857f568420788b0d91f597b34f3ad23b09ab7eca4baa89a1\"\",\"type\":\"Normal\"}\n{\"count\":3,\"firstTimestamp\":\"2021-10-15T15:20:03Z\",\"lastTimestamp\":\"2021-10-15T15:20:18Z\",\"name\":\"Pulled\",\"message\":\"Successfully pulled image \"aiwregistry.azurecr.io/azureml/azureml_e7606bffe4681d4b0c5a18a2f4070c1e@sha256:f24eadf82cbaee7b857f568420788b0d91f597b34f3ad23b09ab7eca4baa89a1\"\",\"type\":\"Normal\"}\n{\"count\":4,\"firstTimestamp\":\"2021-10-15T15:20:36Z\",\"lastTimestamp\":\"2021-10-15T15:23:52Z\",\"name\":\"Started\",\"message\":\"Started container\",\"type\":\"Normal\"}\n{\"count\":3,\"firstTimestamp\":\"2021-10-15T15:21:15Z\",\"lastTimestamp\":\"2021-10-15T15:23:18Z\",\"name\":\"Killing\",\"message\":\"Killing container with id 00a6dd3a6d5841b0d47b542f5e18acd153849f58643e9026492db03560938aa1.\",\"type\":\"Normal\"}\n\"\n    }\n  ]\n}\n\n"
        },
        {
          "output_type": "error",
          "ename": "WebserviceException",
          "evalue": "WebserviceException:\n\tMessage: Service deployment polling reached non-successful terminal state, current service state: Failed\nOperation ID: 48e16d1c-0d46-478c-acca-9087a936fd43\nMore information can be found using '.get_logs()'\nError:\n{\n  \"code\": \"AciDeploymentFailed\",\n  \"statusCode\": 400,\n  \"message\": \"Aci Deployment failed with exception: Your container application crashed. This may be caused by errors in your scoring file's init() function.\n\t1. Please check the logs for your container instance: churn-classifier. From the AML SDK, you can run print(service.get_logs()) if you have service object to fetch the logs.\n\t2. You can interactively debug your scoring file locally. Please refer to https://docs.microsoft.com/azure/machine-learning/how-to-debug-visual-studio-code#debug-and-troubleshoot-deployments for more information.\n\t3. You can also try to run image aiwregistry.azurecr.io/azureml/azureml_e7606bffe4681d4b0c5a18a2f4070c1e locally. Please refer to https://aka.ms/debugimage#service-launch-fails for more information.\",\n  \"details\": [\n    {\n      \"code\": \"CrashLoopBackOff\",\n      \"message\": \"Your container application crashed. This may be caused by errors in your scoring file's init() function.\n\t1. Please check the logs for your container instance: churn-classifier. From the AML SDK, you can run print(service.get_logs()) if you have service object to fetch the logs.\n\t2. You can interactively debug your scoring file locally. Please refer to https://docs.microsoft.com/azure/machine-learning/how-to-debug-visual-studio-code#debug-and-troubleshoot-deployments for more information.\n\t3. You can also try to run image aiwregistry.azurecr.io/azureml/azureml_e7606bffe4681d4b0c5a18a2f4070c1e locally. Please refer to https://aka.ms/debugimage#service-launch-fails for more information.\"\n    },\n    {\n      \"code\": \"AciDeploymentFailed\",\n      \"message\": \"Your container application crashed. Please follow the steps to debug:\n\t1. From the AML SDK, you can run print(service.get_logs()) if you have service object to fetch the logs. Please refer to https://aka.ms/debugimage#dockerlog for more information.\n\t2. If your container application crashed. This may be caused by errors in your scoring file's init() function. You can try debugging locally first. Please refer to https://aka.ms/debugimage#debug-locally for more information.\n\t3. You can also interactively debug your scoring file locally. Please refer to https://docs.microsoft.com/azure/machine-learning/how-to-debug-visual-studio-code#debug-and-troubleshoot-deployments for more information.\n\t4. View the diagnostic events to check status of container, it may help you to debug the issue.\n\"RestartCount\": 3\n\"CurrentState\": {\"state\":\"Waiting\",\"startTime\":null,\"exitCode\":null,\"finishTime\":null,\"detailStatus\":\"CrashLoopBackOff: Back-off restarting failed\"}\n\"PreviousState\": {\"state\":\"Terminated\",\"startTime\":\"2021-10-15T15:23:52.192Z\",\"exitCode\":111,\"finishTime\":\"2021-10-15T15:24:34.299Z\",\"detailStatus\":\"Error\"}\n\"Events\":\n{\"count\":3,\"firstTimestamp\":\"2021-10-15T15:13:18Z\",\"lastTimestamp\":\"2021-10-15T15:20:18Z\",\"name\":\"Pulling\",\"message\":\"pulling image \"aiwregistry.azurecr.io/azureml/azureml_e7606bffe4681d4b0c5a18a2f4070c1e@sha256:f24eadf82cbaee7b857f568420788b0d91f597b34f3ad23b09ab7eca4baa89a1\"\",\"type\":\"Normal\"}\n{\"count\":3,\"firstTimestamp\":\"2021-10-15T15:20:03Z\",\"lastTimestamp\":\"2021-10-15T15:20:18Z\",\"name\":\"Pulled\",\"message\":\"Successfully pulled image \"aiwregistry.azurecr.io/azureml/azureml_e7606bffe4681d4b0c5a18a2f4070c1e@sha256:f24eadf82cbaee7b857f568420788b0d91f597b34f3ad23b09ab7eca4baa89a1\"\",\"type\":\"Normal\"}\n{\"count\":4,\"firstTimestamp\":\"2021-10-15T15:20:36Z\",\"lastTimestamp\":\"2021-10-15T15:23:52Z\",\"name\":\"Started\",\"message\":\"Started container\",\"type\":\"Normal\"}\n{\"count\":3,\"firstTimestamp\":\"2021-10-15T15:21:15Z\",\"lastTimestamp\":\"2021-10-15T15:23:18Z\",\"name\":\"Killing\",\"message\":\"Killing container with id 00a6dd3a6d5841b0d47b542f5e18acd153849f58643e9026492db03560938aa1.\",\"type\":\"Normal\"}\n\"\n    }\n  ]\n}\n\tInnerException None\n\tErrorResponse \n{\n    \"error\": {\n        \"message\": \"Service deployment polling reached non-successful terminal state, current service state: Failed\\nOperation ID: 48e16d1c-0d46-478c-acca-9087a936fd43\\nMore information can be found using '.get_logs()'\\nError:\\n{\\n  \\\"code\\\": \\\"AciDeploymentFailed\\\",\\n  \\\"statusCode\\\": 400,\\n  \\\"message\\\": \\\"Aci Deployment failed with exception: Your container application crashed. This may be caused by errors in your scoring file's init() function.\\n\\t1. Please check the logs for your container instance: churn-classifier. From the AML SDK, you can run print(service.get_logs()) if you have service object to fetch the logs.\\n\\t2. You can interactively debug your scoring file locally. Please refer to https://docs.microsoft.com/azure/machine-learning/how-to-debug-visual-studio-code#debug-and-troubleshoot-deployments for more information.\\n\\t3. You can also try to run image aiwregistry.azurecr.io/azureml/azureml_e7606bffe4681d4b0c5a18a2f4070c1e locally. Please refer to https://aka.ms/debugimage#service-launch-fails for more information.\\\",\\n  \\\"details\\\": [\\n    {\\n      \\\"code\\\": \\\"CrashLoopBackOff\\\",\\n      \\\"message\\\": \\\"Your container application crashed. This may be caused by errors in your scoring file's init() function.\\n\\t1. Please check the logs for your container instance: churn-classifier. From the AML SDK, you can run print(service.get_logs()) if you have service object to fetch the logs.\\n\\t2. You can interactively debug your scoring file locally. Please refer to https://docs.microsoft.com/azure/machine-learning/how-to-debug-visual-studio-code#debug-and-troubleshoot-deployments for more information.\\n\\t3. You can also try to run image aiwregistry.azurecr.io/azureml/azureml_e7606bffe4681d4b0c5a18a2f4070c1e locally. Please refer to https://aka.ms/debugimage#service-launch-fails for more information.\\\"\\n    },\\n    {\\n      \\\"code\\\": \\\"AciDeploymentFailed\\\",\\n      \\\"message\\\": \\\"Your container application crashed. Please follow the steps to debug:\\n\\t1. From the AML SDK, you can run print(service.get_logs()) if you have service object to fetch the logs. Please refer to https://aka.ms/debugimage#dockerlog for more information.\\n\\t2. If your container application crashed. This may be caused by errors in your scoring file's init() function. You can try debugging locally first. Please refer to https://aka.ms/debugimage#debug-locally for more information.\\n\\t3. You can also interactively debug your scoring file locally. Please refer to https://docs.microsoft.com/azure/machine-learning/how-to-debug-visual-studio-code#debug-and-troubleshoot-deployments for more information.\\n\\t4. View the diagnostic events to check status of container, it may help you to debug the issue.\\n\\\"RestartCount\\\": 3\\n\\\"CurrentState\\\": {\\\"state\\\":\\\"Waiting\\\",\\\"startTime\\\":null,\\\"exitCode\\\":null,\\\"finishTime\\\":null,\\\"detailStatus\\\":\\\"CrashLoopBackOff: Back-off restarting failed\\\"}\\n\\\"PreviousState\\\": {\\\"state\\\":\\\"Terminated\\\",\\\"startTime\\\":\\\"2021-10-15T15:23:52.192Z\\\",\\\"exitCode\\\":111,\\\"finishTime\\\":\\\"2021-10-15T15:24:34.299Z\\\",\\\"detailStatus\\\":\\\"Error\\\"}\\n\\\"Events\\\":\\n{\\\"count\\\":3,\\\"firstTimestamp\\\":\\\"2021-10-15T15:13:18Z\\\",\\\"lastTimestamp\\\":\\\"2021-10-15T15:20:18Z\\\",\\\"name\\\":\\\"Pulling\\\",\\\"message\\\":\\\"pulling image \\\"aiwregistry.azurecr.io/azureml/azureml_e7606bffe4681d4b0c5a18a2f4070c1e@sha256:f24eadf82cbaee7b857f568420788b0d91f597b34f3ad23b09ab7eca4baa89a1\\\"\\\",\\\"type\\\":\\\"Normal\\\"}\\n{\\\"count\\\":3,\\\"firstTimestamp\\\":\\\"2021-10-15T15:20:03Z\\\",\\\"lastTimestamp\\\":\\\"2021-10-15T15:20:18Z\\\",\\\"name\\\":\\\"Pulled\\\",\\\"message\\\":\\\"Successfully pulled image \\\"aiwregistry.azurecr.io/azureml/azureml_e7606bffe4681d4b0c5a18a2f4070c1e@sha256:f24eadf82cbaee7b857f568420788b0d91f597b34f3ad23b09ab7eca4baa89a1\\\"\\\",\\\"type\\\":\\\"Normal\\\"}\\n{\\\"count\\\":4,\\\"firstTimestamp\\\":\\\"2021-10-15T15:20:36Z\\\",\\\"lastTimestamp\\\":\\\"2021-10-15T15:23:52Z\\\",\\\"name\\\":\\\"Started\\\",\\\"message\\\":\\\"Started container\\\",\\\"type\\\":\\\"Normal\\\"}\\n{\\\"count\\\":3,\\\"firstTimestamp\\\":\\\"2021-10-15T15:21:15Z\\\",\\\"lastTimestamp\\\":\\\"2021-10-15T15:23:18Z\\\",\\\"name\\\":\\\"Killing\\\",\\\"message\\\":\\\"Killing container with id 00a6dd3a6d5841b0d47b542f5e18acd153849f58643e9026492db03560938aa1.\\\",\\\"type\\\":\\\"Normal\\\"}\\n\\\"\\n    }\\n  ]\\n}\"\n    }\n}",
          "traceback": [
            "\u001b[0;31m---------------------------------------------------------------------------\u001b[0m",
            "\u001b[0;31mWebserviceException\u001b[0m                       Traceback (most recent call last)",
            "\u001b[0;32m<ipython-input-4-b2e6302543cb>\u001b[0m in \u001b[0;36m<module>\u001b[0;34m\u001b[0m\n\u001b[1;32m     15\u001b[0m \u001b[0;34m\u001b[0m\u001b[0m\n\u001b[1;32m     16\u001b[0m \u001b[0;31m#service.get_logs()\u001b[0m\u001b[0;34m\u001b[0m\u001b[0;34m\u001b[0m\u001b[0;34m\u001b[0m\u001b[0m\n\u001b[0;32m---> 17\u001b[0;31m \u001b[0mservice\u001b[0m\u001b[0;34m.\u001b[0m\u001b[0mwait_for_deployment\u001b[0m\u001b[0;34m(\u001b[0m\u001b[0mshow_output\u001b[0m \u001b[0;34m=\u001b[0m \u001b[0;32mTrue\u001b[0m\u001b[0;34m)\u001b[0m\u001b[0;34m\u001b[0m\u001b[0;34m\u001b[0m\u001b[0m\n\u001b[0m\u001b[1;32m     18\u001b[0m \u001b[0;34m\u001b[0m\u001b[0m\n\u001b[1;32m     19\u001b[0m \u001b[0;31m#print(service.get_keys())\u001b[0m\u001b[0;34m\u001b[0m\u001b[0;34m\u001b[0m\u001b[0;34m\u001b[0m\u001b[0m\n",
            "\u001b[0;32m/anaconda/envs/azureml_py36/lib/python3.6/site-packages/azureml/core/webservice/webservice.py\u001b[0m in \u001b[0;36mwait_for_deployment\u001b[0;34m(self, show_output, timeout_sec)\u001b[0m\n\u001b[1;32m    923\u001b[0m                                           \u001b[0;34m'Error:\\n'\u001b[0m\u001b[0;34m\u001b[0m\u001b[0;34m\u001b[0m\u001b[0m\n\u001b[1;32m    924\u001b[0m                                           '{}'.format(self.state, self._operation_endpoint.split('/')[-1],\n\u001b[0;32m--> 925\u001b[0;31m                                                       logs_response, format_error_response), logger=module_logger)\n\u001b[0m\u001b[1;32m    926\u001b[0m             print('{} service creation operation finished, operation \"{}\"'.format(self._webservice_type,\n\u001b[1;32m    927\u001b[0m                                                                                   operation_state))\n",
            "\u001b[0;31mWebserviceException\u001b[0m: WebserviceException:\n\tMessage: Service deployment polling reached non-successful terminal state, current service state: Failed\nOperation ID: 48e16d1c-0d46-478c-acca-9087a936fd43\nMore information can be found using '.get_logs()'\nError:\n{\n  \"code\": \"AciDeploymentFailed\",\n  \"statusCode\": 400,\n  \"message\": \"Aci Deployment failed with exception: Your container application crashed. This may be caused by errors in your scoring file's init() function.\n\t1. Please check the logs for your container instance: churn-classifier. From the AML SDK, you can run print(service.get_logs()) if you have service object to fetch the logs.\n\t2. You can interactively debug your scoring file locally. Please refer to https://docs.microsoft.com/azure/machine-learning/how-to-debug-visual-studio-code#debug-and-troubleshoot-deployments for more information.\n\t3. You can also try to run image aiwregistry.azurecr.io/azureml/azureml_e7606bffe4681d4b0c5a18a2f4070c1e locally. Please refer to https://aka.ms/debugimage#service-launch-fails for more information.\",\n  \"details\": [\n    {\n      \"code\": \"CrashLoopBackOff\",\n      \"message\": \"Your container application crashed. This may be caused by errors in your scoring file's init() function.\n\t1. Please check the logs for your container instance: churn-classifier. From the AML SDK, you can run print(service.get_logs()) if you have service object to fetch the logs.\n\t2. You can interactively debug your scoring file locally. Please refer to https://docs.microsoft.com/azure/machine-learning/how-to-debug-visual-studio-code#debug-and-troubleshoot-deployments for more information.\n\t3. You can also try to run image aiwregistry.azurecr.io/azureml/azureml_e7606bffe4681d4b0c5a18a2f4070c1e locally. Please refer to https://aka.ms/debugimage#service-launch-fails for more information.\"\n    },\n    {\n      \"code\": \"AciDeploymentFailed\",\n      \"message\": \"Your container application crashed. Please follow the steps to debug:\n\t1. From the AML SDK, you can run print(service.get_logs()) if you have service object to fetch the logs. Please refer to https://aka.ms/debugimage#dockerlog for more information.\n\t2. If your container application crashed. This may be caused by errors in your scoring file's init() function. You can try debugging locally first. Please refer to https://aka.ms/debugimage#debug-locally for more information.\n\t3. You can also interactively debug your scoring file locally. Please refer to https://docs.microsoft.com/azure/machine-learning/how-to-debug-visual-studio-code#debug-and-troubleshoot-deployments for more information.\n\t4. View the diagnostic events to check status of container, it may help you to debug the issue.\n\"RestartCount\": 3\n\"CurrentState\": {\"state\":\"Waiting\",\"startTime\":null,\"exitCode\":null,\"finishTime\":null,\"detailStatus\":\"CrashLoopBackOff: Back-off restarting failed\"}\n\"PreviousState\": {\"state\":\"Terminated\",\"startTime\":\"2021-10-15T15:23:52.192Z\",\"exitCode\":111,\"finishTime\":\"2021-10-15T15:24:34.299Z\",\"detailStatus\":\"Error\"}\n\"Events\":\n{\"count\":3,\"firstTimestamp\":\"2021-10-15T15:13:18Z\",\"lastTimestamp\":\"2021-10-15T15:20:18Z\",\"name\":\"Pulling\",\"message\":\"pulling image \"aiwregistry.azurecr.io/azureml/azureml_e7606bffe4681d4b0c5a18a2f4070c1e@sha256:f24eadf82cbaee7b857f568420788b0d91f597b34f3ad23b09ab7eca4baa89a1\"\",\"type\":\"Normal\"}\n{\"count\":3,\"firstTimestamp\":\"2021-10-15T15:20:03Z\",\"lastTimestamp\":\"2021-10-15T15:20:18Z\",\"name\":\"Pulled\",\"message\":\"Successfully pulled image \"aiwregistry.azurecr.io/azureml/azureml_e7606bffe4681d4b0c5a18a2f4070c1e@sha256:f24eadf82cbaee7b857f568420788b0d91f597b34f3ad23b09ab7eca4baa89a1\"\",\"type\":\"Normal\"}\n{\"count\":4,\"firstTimestamp\":\"2021-10-15T15:20:36Z\",\"lastTimestamp\":\"2021-10-15T15:23:52Z\",\"name\":\"Started\",\"message\":\"Started container\",\"type\":\"Normal\"}\n{\"count\":3,\"firstTimestamp\":\"2021-10-15T15:21:15Z\",\"lastTimestamp\":\"2021-10-15T15:23:18Z\",\"name\":\"Killing\",\"message\":\"Killing container with id 00a6dd3a6d5841b0d47b542f5e18acd153849f58643e9026492db03560938aa1.\",\"type\":\"Normal\"}\n\"\n    }\n  ]\n}\n\tInnerException None\n\tErrorResponse \n{\n    \"error\": {\n        \"message\": \"Service deployment polling reached non-successful terminal state, current service state: Failed\\nOperation ID: 48e16d1c-0d46-478c-acca-9087a936fd43\\nMore information can be found using '.get_logs()'\\nError:\\n{\\n  \\\"code\\\": \\\"AciDeploymentFailed\\\",\\n  \\\"statusCode\\\": 400,\\n  \\\"message\\\": \\\"Aci Deployment failed with exception: Your container application crashed. This may be caused by errors in your scoring file's init() function.\\n\\t1. Please check the logs for your container instance: churn-classifier. From the AML SDK, you can run print(service.get_logs()) if you have service object to fetch the logs.\\n\\t2. You can interactively debug your scoring file locally. Please refer to https://docs.microsoft.com/azure/machine-learning/how-to-debug-visual-studio-code#debug-and-troubleshoot-deployments for more information.\\n\\t3. You can also try to run image aiwregistry.azurecr.io/azureml/azureml_e7606bffe4681d4b0c5a18a2f4070c1e locally. Please refer to https://aka.ms/debugimage#service-launch-fails for more information.\\\",\\n  \\\"details\\\": [\\n    {\\n      \\\"code\\\": \\\"CrashLoopBackOff\\\",\\n      \\\"message\\\": \\\"Your container application crashed. This may be caused by errors in your scoring file's init() function.\\n\\t1. Please check the logs for your container instance: churn-classifier. From the AML SDK, you can run print(service.get_logs()) if you have service object to fetch the logs.\\n\\t2. You can interactively debug your scoring file locally. Please refer to https://docs.microsoft.com/azure/machine-learning/how-to-debug-visual-studio-code#debug-and-troubleshoot-deployments for more information.\\n\\t3. You can also try to run image aiwregistry.azurecr.io/azureml/azureml_e7606bffe4681d4b0c5a18a2f4070c1e locally. Please refer to https://aka.ms/debugimage#service-launch-fails for more information.\\\"\\n    },\\n    {\\n      \\\"code\\\": \\\"AciDeploymentFailed\\\",\\n      \\\"message\\\": \\\"Your container application crashed. Please follow the steps to debug:\\n\\t1. From the AML SDK, you can run print(service.get_logs()) if you have service object to fetch the logs. Please refer to https://aka.ms/debugimage#dockerlog for more information.\\n\\t2. If your container application crashed. This may be caused by errors in your scoring file's init() function. You can try debugging locally first. Please refer to https://aka.ms/debugimage#debug-locally for more information.\\n\\t3. You can also interactively debug your scoring file locally. Please refer to https://docs.microsoft.com/azure/machine-learning/how-to-debug-visual-studio-code#debug-and-troubleshoot-deployments for more information.\\n\\t4. View the diagnostic events to check status of container, it may help you to debug the issue.\\n\\\"RestartCount\\\": 3\\n\\\"CurrentState\\\": {\\\"state\\\":\\\"Waiting\\\",\\\"startTime\\\":null,\\\"exitCode\\\":null,\\\"finishTime\\\":null,\\\"detailStatus\\\":\\\"CrashLoopBackOff: Back-off restarting failed\\\"}\\n\\\"PreviousState\\\": {\\\"state\\\":\\\"Terminated\\\",\\\"startTime\\\":\\\"2021-10-15T15:23:52.192Z\\\",\\\"exitCode\\\":111,\\\"finishTime\\\":\\\"2021-10-15T15:24:34.299Z\\\",\\\"detailStatus\\\":\\\"Error\\\"}\\n\\\"Events\\\":\\n{\\\"count\\\":3,\\\"firstTimestamp\\\":\\\"2021-10-15T15:13:18Z\\\",\\\"lastTimestamp\\\":\\\"2021-10-15T15:20:18Z\\\",\\\"name\\\":\\\"Pulling\\\",\\\"message\\\":\\\"pulling image \\\"aiwregistry.azurecr.io/azureml/azureml_e7606bffe4681d4b0c5a18a2f4070c1e@sha256:f24eadf82cbaee7b857f568420788b0d91f597b34f3ad23b09ab7eca4baa89a1\\\"\\\",\\\"type\\\":\\\"Normal\\\"}\\n{\\\"count\\\":3,\\\"firstTimestamp\\\":\\\"2021-10-15T15:20:03Z\\\",\\\"lastTimestamp\\\":\\\"2021-10-15T15:20:18Z\\\",\\\"name\\\":\\\"Pulled\\\",\\\"message\\\":\\\"Successfully pulled image \\\"aiwregistry.azurecr.io/azureml/azureml_e7606bffe4681d4b0c5a18a2f4070c1e@sha256:f24eadf82cbaee7b857f568420788b0d91f597b34f3ad23b09ab7eca4baa89a1\\\"\\\",\\\"type\\\":\\\"Normal\\\"}\\n{\\\"count\\\":4,\\\"firstTimestamp\\\":\\\"2021-10-15T15:20:36Z\\\",\\\"lastTimestamp\\\":\\\"2021-10-15T15:23:52Z\\\",\\\"name\\\":\\\"Started\\\",\\\"message\\\":\\\"Started container\\\",\\\"type\\\":\\\"Normal\\\"}\\n{\\\"count\\\":3,\\\"firstTimestamp\\\":\\\"2021-10-15T15:21:15Z\\\",\\\"lastTimestamp\\\":\\\"2021-10-15T15:23:18Z\\\",\\\"name\\\":\\\"Killing\\\",\\\"message\\\":\\\"Killing container with id 00a6dd3a6d5841b0d47b542f5e18acd153849f58643e9026492db03560938aa1.\\\",\\\"type\\\":\\\"Normal\\\"}\\n\\\"\\n    }\\n  ]\\n}\"\n    }\n}"
          ]
        }
      ],
      "execution_count": 4,
      "metadata": {
        "jupyter": {
          "source_hidden": false,
          "outputs_hidden": false
        },
        "nteract": {
          "transient": {
            "deleting": false
          }
        },
        "gather": {
          "logged": 1632751953678
        }
      }
    },
    {
      "cell_type": "code",
      "source": [
        "import sklearn \r\n",
        "print (sklearn.__version__)"
      ],
      "outputs": [
        {
          "output_type": "stream",
          "name": "stdout",
          "text": "0.22.2.post1\n"
        }
      ],
      "execution_count": 1,
      "metadata": {
        "jupyter": {
          "source_hidden": false,
          "outputs_hidden": false
        },
        "nteract": {
          "transient": {
            "deleting": false
          }
        },
        "gather": {
          "logged": 1634312733790
        }
      }
    }
  ],
  "metadata": {
    "kernelspec": {
      "name": "python3-azureml",
      "language": "python",
      "display_name": "Python 3.6 - AzureML"
    },
    "language_info": {
      "name": "python",
      "version": "3.6.9",
      "mimetype": "text/x-python",
      "codemirror_mode": {
        "name": "ipython",
        "version": 3
      },
      "pygments_lexer": "ipython3",
      "nbconvert_exporter": "python",
      "file_extension": ".py"
    },
    "kernel_info": {
      "name": "python3-azureml"
    },
    "microsoft": {
      "host": {
        "AzureML": {
          "notebookHasBeenCompleted": true
        }
      }
    },
    "nteract": {
      "version": "nteract-front-end@1.0.0"
    }
  },
  "nbformat": 4,
  "nbformat_minor": 0
}