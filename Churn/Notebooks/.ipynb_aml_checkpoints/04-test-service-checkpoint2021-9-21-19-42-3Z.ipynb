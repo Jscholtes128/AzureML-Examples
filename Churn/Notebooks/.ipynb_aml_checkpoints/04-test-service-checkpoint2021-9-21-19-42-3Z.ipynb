{
  "cells": [
    {
      "cell_type": "code",
      "source": [
        "import numpy as np\r\n",
        "import pandas as pd\r\n",
        "import json\r\n",
        "import requests\r\n",
        "from azureml.core.webservice import AciWebservice, Webservice\r\n",
        "from azureml.core.image import ContainerImage\r\n",
        "from azureml.core.experiment import Experiment\r\n",
        "from azureml.core import Workspace, Dataset\r\n"
      ],
      "outputs": [],
      "execution_count": 1,
      "metadata": {
        "gather": {
          "logged": 1634315748814
        }
      }
    },
    {
      "cell_type": "code",
      "source": [
        "ws = Workspace.from_config()"
      ],
      "outputs": [],
      "execution_count": 2,
      "metadata": {
        "jupyter": {
          "source_hidden": false,
          "outputs_hidden": false
        },
        "nteract": {
          "transient": {
            "deleting": false
          }
        },
        "gather": {
          "logged": 1634315748960
        }
      }
    },
    {
      "cell_type": "code",
      "source": [
        "dataset = Dataset.get_by_name(ws, name='Churn')\r\n",
        "df_pd = dataset.to_pandas_dataframe()"
      ],
      "outputs": [
        {
          "output_type": "stream",
          "name": "stdout",
          "text": "Getting data access token with Assigned Identity (client_id=clientid).\n"
        }
      ],
      "execution_count": 3,
      "metadata": {
        "jupyter": {
          "source_hidden": false,
          "outputs_hidden": false
        },
        "nteract": {
          "transient": {
            "deleting": false
          }
        },
        "gather": {
          "logged": 1634315754883
        }
      }
    },
    {
      "cell_type": "code",
      "source": [
        "webservice_name = 'churn-classifier'"
      ],
      "outputs": [],
      "execution_count": 4,
      "metadata": {
        "jupyter": {
          "source_hidden": false,
          "outputs_hidden": false
        },
        "nteract": {
          "transient": {
            "deleting": false
          }
        },
        "gather": {
          "logged": 1634315755031
        }
      }
    },
    {
      "cell_type": "code",
      "source": [
        "service = Webservice(ws, webservice_name) \r\n",
        "\r\n",
        "uri = service.scoring_uri\r\n",
        "key =service.get_keys()[0]\r\n",
        "\r\n",
        "print(uri)\r\n",
        "\r\n",
        "sampleSize = round(5/len(df_pd),5)\r\n",
        "testdf = df_pd.sample(frac=sampleSize)\r\n",
        "\r\n",
        "X = testdf.drop('Exited',axis=1)\r\n",
        "y = testdf.Exited.tolist()\r\n",
        "\r\n",
        "\r\n",
        "input_data = json.dumps(X.to_json( orient='records')) # Create JSON of sample records    \r\n",
        "\r\n",
        "headers = {'Content-Type':'application/json'}\r\n",
        "\r\n",
        "#for AKS deployment you'd need to the service key in the header as well    \r\n",
        "headers = {'Content-Type':'application/json',  'Authorization':('Bearer '+ key)} \r\n",
        "\r\n",
        "resp = requests.post(uri, input_data, headers=headers)\r\n",
        "try:\r\n",
        "    print(\"POST to url\", uri)\r\n",
        "    print(\"input data:\", input_data)\r\n",
        "    print(\"label:\", y)\r\n",
        "    print(\"prediction:\", resp.text)\r\n",
        "except Exception:\r\n",
        "    print(\"Web Service Not Found\")"
      ],
      "outputs": [
        {
          "output_type": "stream",
          "name": "stdout",
          "text": "http://e915eb4b-856c-4f78-8e76-cd06c848990e.southcentralus.azurecontainer.io/score\nPOST to url http://e915eb4b-856c-4f78-8e76-cd06c848990e.southcentralus.azurecontainer.io/score\ninput data: \"[{\\\"CustomerId\\\":15610433,\\\"Surname\\\":\\\"Kwemto\\\",\\\"CreditScore\\\":573,\\\"Geography\\\":\\\"France\\\",\\\"Gender\\\":\\\"Male\\\",\\\"Age\\\":35,\\\"Tenure\\\":9,\\\"Balance\\\":0.0,\\\"NumOfProducts\\\":2,\\\"HasCrCard\\\":1,\\\"IsActiveMember\\\":0,\\\"EstimatedSalary\\\":11743.89},{\\\"CustomerId\\\":15740345,\\\"Surname\\\":\\\"Osborne\\\",\\\"CreditScore\\\":657,\\\"Geography\\\":\\\"Spain\\\",\\\"Gender\\\":\\\"Male\\\",\\\"Age\\\":42,\\\"Tenure\\\":5,\\\"Balance\\\":41473.33,\\\"NumOfProducts\\\":1,\\\"HasCrCard\\\":1,\\\"IsActiveMember\\\":0,\\\"EstimatedSalary\\\":112979.6},{\\\"CustomerId\\\":15694404,\\\"Surname\\\":\\\"Eberegbulam\\\",\\\"CreditScore\\\":781,\\\"Geography\\\":\\\"France\\\",\\\"Gender\\\":\\\"Female\\\",\\\"Age\\\":42,\\\"Tenure\\\":3,\\\"Balance\\\":156555.54,\\\"NumOfProducts\\\":1,\\\"HasCrCard\\\":1,\\\"IsActiveMember\\\":1,\\\"EstimatedSalary\\\":175674.01},{\\\"CustomerId\\\":15603082,\\\"Surname\\\":\\\"Yashina\\\",\\\"CreditScore\\\":701,\\\"Geography\\\":\\\"France\\\",\\\"Gender\\\":\\\"Male\\\",\\\"Age\\\":51,\\\"Tenure\\\":9,\\\"Balance\\\":0.0,\\\"NumOfProducts\\\":2,\\\"HasCrCard\\\":0,\\\"IsActiveMember\\\":0,\\\"EstimatedSalary\\\":61961.57},{\\\"CustomerId\\\":15743760,\\\"Surname\\\":\\\"Davidson\\\",\\\"CreditScore\\\":850,\\\"Geography\\\":\\\"France\\\",\\\"Gender\\\":\\\"Male\\\",\\\"Age\\\":31,\\\"Tenure\\\":6,\\\"Balance\\\":131996.66,\\\"NumOfProducts\\\":2,\\\"HasCrCard\\\":1,\\\"IsActiveMember\\\":1,\\\"EstimatedSalary\\\":178747.43}]\"\nlabel: [0, 1, 0, 0, 0]\nprediction: \"[0, 1, 0, 0, 0]\"\n"
        }
      ],
      "execution_count": 9,
      "metadata": {
        "jupyter": {
          "source_hidden": false,
          "outputs_hidden": false
        },
        "nteract": {
          "transient": {
            "deleting": false
          }
        },
        "gather": {
          "logged": 1634315831972
        }
      }
    }
  ],
  "metadata": {
    "kernelspec": {
      "name": "python3-azureml",
      "language": "python",
      "display_name": "Python 3.6 - AzureML"
    },
    "language_info": {
      "name": "python",
      "version": "3.6.9",
      "mimetype": "text/x-python",
      "codemirror_mode": {
        "name": "ipython",
        "version": 3
      },
      "pygments_lexer": "ipython3",
      "nbconvert_exporter": "python",
      "file_extension": ".py"
    },
    "kernel_info": {
      "name": "python3-azureml"
    },
    "nteract": {
      "version": "nteract-front-end@1.0.0"
    },
    "microsoft": {
      "host": {
        "AzureML": {
          "notebookHasBeenCompleted": true
        }
      }
    }
  },
  "nbformat": 4,
  "nbformat_minor": 0
}