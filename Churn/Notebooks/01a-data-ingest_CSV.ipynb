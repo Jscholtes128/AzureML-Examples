{
  "cells": [
    {
      "cell_type": "code",
      "source": [
        "import numpy as np\r\n",
        "import pandas as pd\r\n",
        "# import needed libraries for downloading and unzipping the file\r\n",
        "import urllib.request\r\n",
        "from zipfile import ZipFile\r\n",
        "import os"
      ],
      "outputs": [],
      "execution_count": 1,
      "metadata": {
        "gather": {
          "logged": 1635359487988
        }
      }
    },
    {
      "cell_type": "code",
      "source": [
        "# download from url\r\n",
        "response = urllib.request.urlopen(\"https://raw.githubusercontent.com/Jscholtes128/Azure-AI-CustomerChurn-Hack/master/data/customerchurn.zip\")\r\n",
        "output = open('customerchurn.zip', 'wb')    # note the flag:  \"wb\"        \r\n",
        "output.write(response.read())\r\n",
        "output.close()"
      ],
      "outputs": [],
      "execution_count": 2,
      "metadata": {
        "jupyter": {
          "source_hidden": false,
          "outputs_hidden": false
        },
        "nteract": {
          "transient": {
            "deleting": false
          }
        },
        "gather": {
          "logged": 1635359488240
        }
      }
    },
    {
      "cell_type": "code",
      "source": [
        "# unzip files\r\n",
        "zipfile = ZipFile(\"customerchurn.zip\")\r\n",
        "zipfile.extract(\"Churn_Modelling.csv\")"
      ],
      "outputs": [
        {
          "output_type": "execute_result",
          "execution_count": 3,
          "data": {
            "text/plain": "'/mnt/batch/tasks/shared/LS_root/mounts/clusters/cpuinstance/code/Users/joscholt/Churn/Notebooks/Churn_Modelling.csv'"
          },
          "metadata": {}
        }
      ],
      "execution_count": 3,
      "metadata": {
        "jupyter": {
          "source_hidden": false,
          "outputs_hidden": false
        },
        "nteract": {
          "transient": {
            "deleting": false
          }
        },
        "gather": {
          "logged": 1635359488484
        }
      }
    },
    {
      "cell_type": "code",
      "source": [
        "prep = pd.read_csv(\"Churn_Modelling.csv\",index_col=False)\r\n",
        "\r\n",
        "\r\n",
        "prep = prep.drop('RowNumber',axis=1)\r\n",
        "\r\n",
        "prep.to_csv('data/turbofan.csv', index=False)"
      ],
      "outputs": [],
      "execution_count": 4,
      "metadata": {
        "jupyter": {
          "source_hidden": false,
          "outputs_hidden": false
        },
        "nteract": {
          "transient": {
            "deleting": false
          }
        },
        "gather": {
          "logged": 1635359488736
        }
      }
    },
    {
      "cell_type": "code",
      "source": [
        "os.remove(\"Churn_Modelling.csv\")\r\n",
        "os.remove(\"customerchurn.zip\")"
      ],
      "outputs": [],
      "execution_count": 5,
      "metadata": {
        "jupyter": {
          "source_hidden": false,
          "outputs_hidden": false
        },
        "nteract": {
          "transient": {
            "deleting": false
          }
        },
        "gather": {
          "logged": 1635359488966
        }
      }
    },
    {
      "cell_type": "code",
      "source": [
        "prep.describe()"
      ],
      "outputs": [
        {
          "output_type": "execute_result",
          "execution_count": 6,
          "data": {
            "text/plain": "         CustomerId   CreditScore           Age        Tenure        Balance  \\\ncount  1.000000e+04  10000.000000  10000.000000  10000.000000   10000.000000   \nmean   1.569094e+07    650.528800     38.921800      5.012800   76485.889288   \nstd    7.193619e+04     96.653299     10.487806      2.892174   62397.405202   \nmin    1.556570e+07    350.000000     18.000000      0.000000       0.000000   \n25%    1.562853e+07    584.000000     32.000000      3.000000       0.000000   \n50%    1.569074e+07    652.000000     37.000000      5.000000   97198.540000   \n75%    1.575323e+07    718.000000     44.000000      7.000000  127644.240000   \nmax    1.581569e+07    850.000000     92.000000     10.000000  250898.090000   \n\n       NumOfProducts    HasCrCard  IsActiveMember  EstimatedSalary  \\\ncount   10000.000000  10000.00000    10000.000000     10000.000000   \nmean        1.530200      0.70550        0.515100    100090.239881   \nstd         0.581654      0.45584        0.499797     57510.492818   \nmin         1.000000      0.00000        0.000000        11.580000   \n25%         1.000000      0.00000        0.000000     51002.110000   \n50%         1.000000      1.00000        1.000000    100193.915000   \n75%         2.000000      1.00000        1.000000    149388.247500   \nmax         4.000000      1.00000        1.000000    199992.480000   \n\n             Exited  \ncount  10000.000000  \nmean       0.203700  \nstd        0.402769  \nmin        0.000000  \n25%        0.000000  \n50%        0.000000  \n75%        0.000000  \nmax        1.000000  ",
            "text/html": "<div>\n<style scoped>\n    .dataframe tbody tr th:only-of-type {\n        vertical-align: middle;\n    }\n\n    .dataframe tbody tr th {\n        vertical-align: top;\n    }\n\n    .dataframe thead th {\n        text-align: right;\n    }\n</style>\n<table border=\"1\" class=\"dataframe\">\n  <thead>\n    <tr style=\"text-align: right;\">\n      <th></th>\n      <th>CustomerId</th>\n      <th>CreditScore</th>\n      <th>Age</th>\n      <th>Tenure</th>\n      <th>Balance</th>\n      <th>NumOfProducts</th>\n      <th>HasCrCard</th>\n      <th>IsActiveMember</th>\n      <th>EstimatedSalary</th>\n      <th>Exited</th>\n    </tr>\n  </thead>\n  <tbody>\n    <tr>\n      <th>count</th>\n      <td>1.000000e+04</td>\n      <td>10000.000000</td>\n      <td>10000.000000</td>\n      <td>10000.000000</td>\n      <td>10000.000000</td>\n      <td>10000.000000</td>\n      <td>10000.00000</td>\n      <td>10000.000000</td>\n      <td>10000.000000</td>\n      <td>10000.000000</td>\n    </tr>\n    <tr>\n      <th>mean</th>\n      <td>1.569094e+07</td>\n      <td>650.528800</td>\n      <td>38.921800</td>\n      <td>5.012800</td>\n      <td>76485.889288</td>\n      <td>1.530200</td>\n      <td>0.70550</td>\n      <td>0.515100</td>\n      <td>100090.239881</td>\n      <td>0.203700</td>\n    </tr>\n    <tr>\n      <th>std</th>\n      <td>7.193619e+04</td>\n      <td>96.653299</td>\n      <td>10.487806</td>\n      <td>2.892174</td>\n      <td>62397.405202</td>\n      <td>0.581654</td>\n      <td>0.45584</td>\n      <td>0.499797</td>\n      <td>57510.492818</td>\n      <td>0.402769</td>\n    </tr>\n    <tr>\n      <th>min</th>\n      <td>1.556570e+07</td>\n      <td>350.000000</td>\n      <td>18.000000</td>\n      <td>0.000000</td>\n      <td>0.000000</td>\n      <td>1.000000</td>\n      <td>0.00000</td>\n      <td>0.000000</td>\n      <td>11.580000</td>\n      <td>0.000000</td>\n    </tr>\n    <tr>\n      <th>25%</th>\n      <td>1.562853e+07</td>\n      <td>584.000000</td>\n      <td>32.000000</td>\n      <td>3.000000</td>\n      <td>0.000000</td>\n      <td>1.000000</td>\n      <td>0.00000</td>\n      <td>0.000000</td>\n      <td>51002.110000</td>\n      <td>0.000000</td>\n    </tr>\n    <tr>\n      <th>50%</th>\n      <td>1.569074e+07</td>\n      <td>652.000000</td>\n      <td>37.000000</td>\n      <td>5.000000</td>\n      <td>97198.540000</td>\n      <td>1.000000</td>\n      <td>1.00000</td>\n      <td>1.000000</td>\n      <td>100193.915000</td>\n      <td>0.000000</td>\n    </tr>\n    <tr>\n      <th>75%</th>\n      <td>1.575323e+07</td>\n      <td>718.000000</td>\n      <td>44.000000</td>\n      <td>7.000000</td>\n      <td>127644.240000</td>\n      <td>2.000000</td>\n      <td>1.00000</td>\n      <td>1.000000</td>\n      <td>149388.247500</td>\n      <td>0.000000</td>\n    </tr>\n    <tr>\n      <th>max</th>\n      <td>1.581569e+07</td>\n      <td>850.000000</td>\n      <td>92.000000</td>\n      <td>10.000000</td>\n      <td>250898.090000</td>\n      <td>4.000000</td>\n      <td>1.00000</td>\n      <td>1.000000</td>\n      <td>199992.480000</td>\n      <td>1.000000</td>\n    </tr>\n  </tbody>\n</table>\n</div>"
          },
          "metadata": {}
        }
      ],
      "execution_count": 6,
      "metadata": {
        "jupyter": {
          "source_hidden": false,
          "outputs_hidden": false
        },
        "nteract": {
          "transient": {
            "deleting": false
          }
        },
        "gather": {
          "logged": 1635359489307
        }
      }
    },
    {
      "cell_type": "markdown",
      "source": [
        "## Create a Registered Dataset from a CSV"
      ],
      "metadata": {
        "nteract": {
          "transient": {
            "deleting": false
          }
        }
      }
    },
    {
      "cell_type": "code",
      "source": [
        "from azureml.core.workspace import Workspace,Dataset\r\n",
        "ws = Workspace.from_config()\r\n",
        "\r\n",
        "dataset = Dataset.Tabular.register_pandas_dataframe(prep, ws.get_default_datastore(), \"churn_from_pandas_df\", show_progress=True)\r\n",
        "\r\n",
        "#prep.register(workspace=ws,\r\n",
        "#            name='Churn_SDK',\r\n",
        "#            description='Churn from Notebook')"
      ],
      "outputs": [
        {
          "output_type": "stream",
          "name": "stderr",
          "text": "Method register_pandas_dataframe: This is an experimental method, and may change at any time. Please see https://aka.ms/azuremlexperimental for more information.\n"
        },
        {
          "output_type": "stream",
          "name": "stdout",
          "text": "Validating arguments.\nArguments validated.\nSuccessfully obtained datastore reference and path.\nUploading file to managed-dataset/c61c2955-3294-4db7-821b-ce66524c24a1/\nSuccessfully uploaded file to datastore.\nCreating and registering a new dataset.\nSuccessfully created and registered a new dataset.\n"
        }
      ],
      "execution_count": 7,
      "metadata": {
        "jupyter": {
          "source_hidden": false,
          "outputs_hidden": false
        },
        "nteract": {
          "transient": {
            "deleting": false
          }
        },
        "gather": {
          "logged": 1635359495141
        }
      }
    }
  ],
  "metadata": {
    "kernelspec": {
      "name": "python3-azureml",
      "language": "python",
      "display_name": "Python 3.6 - AzureML"
    },
    "language_info": {
      "name": "python",
      "version": "3.6.9",
      "mimetype": "text/x-python",
      "codemirror_mode": {
        "name": "ipython",
        "version": 3
      },
      "pygments_lexer": "ipython3",
      "nbconvert_exporter": "python",
      "file_extension": ".py"
    },
    "microsoft": {
      "host": {
        "AzureML": {
          "notebookHasBeenCompleted": true
        }
      }
    },
    "nteract": {
      "version": "nteract-front-end@1.0.0"
    },
    "kernel_info": {
      "name": "python3-azureml"
    }
  },
  "nbformat": 4,
  "nbformat_minor": 0
}