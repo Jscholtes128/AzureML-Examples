{
  "cells": [
    {
      "cell_type": "code",
      "source": [
        "from azureml.core import Workspace, Dataset\r\n",
        "import numpy as np\r\n",
        "import pandas as pd\r\n",
        "\r\n",
        "workspace = Workspace.from_config()\r\n",
        "\r\n",
        "dataset = Dataset.get_by_name(workspace, name='NASA TurboFan Raw')\r\n",
        "df_pd = dataset.to_pandas_dataframe()\r\n",
        "df_pd.head(10)"
      ],
      "outputs": [
        {
          "output_type": "execute_result",
          "execution_count": 2,
          "data": {
            "text/plain": "   unit  cycle     os1     os2  os3     sm1     sm2      sm3      sm4    sm5  \\\n0     1      1 -0.0007 -0.0004  100  518.67  641.82  1589.70  1400.60  14.62   \n1     1      2  0.0019 -0.0003  100  518.67  642.15  1591.82  1403.14  14.62   \n2     1      3 -0.0043  0.0003  100  518.67  642.35  1587.99  1404.20  14.62   \n3     1      4  0.0007  0.0000  100  518.67  642.35  1582.79  1401.87  14.62   \n4     1      5 -0.0019 -0.0002  100  518.67  642.37  1582.85  1406.22  14.62   \n5     1      6 -0.0043 -0.0001  100  518.67  642.10  1584.47  1398.37  14.62   \n6     1      7  0.0010  0.0001  100  518.67  642.48  1592.32  1397.77  14.62   \n7     1      8 -0.0034  0.0003  100  518.67  642.56  1582.96  1400.97  14.62   \n8     1      9  0.0008  0.0001  100  518.67  642.12  1590.98  1394.80  14.62   \n9     1     10 -0.0033  0.0001  100  518.67  641.71  1591.24  1400.46  14.62   \n\n   ...    sm12     sm13     sm14    sm15  sm16  sm17  sm18  sm19   sm20  \\\n0  ...  521.66  2388.02  8138.62  8.4195  0.03   392  2388   100  39.06   \n1  ...  522.28  2388.07  8131.49  8.4318  0.03   392  2388   100  39.00   \n2  ...  522.42  2388.03  8133.23  8.4178  0.03   390  2388   100  38.95   \n3  ...  522.86  2388.08  8133.83  8.3682  0.03   392  2388   100  38.88   \n4  ...  522.19  2388.04  8133.80  8.4294  0.03   393  2388   100  38.90   \n5  ...  521.68  2388.03  8132.85  8.4108  0.03   391  2388   100  38.98   \n6  ...  522.32  2388.03  8132.32  8.3974  0.03   392  2388   100  39.10   \n7  ...  522.47  2388.03  8131.07  8.4076  0.03   391  2388   100  38.97   \n8  ...  521.79  2388.05  8125.69  8.3728  0.03   392  2388   100  39.05   \n9  ...  521.79  2388.06  8129.38  8.4286  0.03   393  2388   100  38.95   \n\n      sm21  \n0  23.4190  \n1  23.4236  \n2  23.3442  \n3  23.3739  \n4  23.4044  \n5  23.3669  \n6  23.3774  \n7  23.3106  \n8  23.4066  \n9  23.4694  \n\n[10 rows x 26 columns]",
            "text/html": "<div>\n<style scoped>\n    .dataframe tbody tr th:only-of-type {\n        vertical-align: middle;\n    }\n\n    .dataframe tbody tr th {\n        vertical-align: top;\n    }\n\n    .dataframe thead th {\n        text-align: right;\n    }\n</style>\n<table border=\"1\" class=\"dataframe\">\n  <thead>\n    <tr style=\"text-align: right;\">\n      <th></th>\n      <th>unit</th>\n      <th>cycle</th>\n      <th>os1</th>\n      <th>os2</th>\n      <th>os3</th>\n      <th>sm1</th>\n      <th>sm2</th>\n      <th>sm3</th>\n      <th>sm4</th>\n      <th>sm5</th>\n      <th>...</th>\n      <th>sm12</th>\n      <th>sm13</th>\n      <th>sm14</th>\n      <th>sm15</th>\n      <th>sm16</th>\n      <th>sm17</th>\n      <th>sm18</th>\n      <th>sm19</th>\n      <th>sm20</th>\n      <th>sm21</th>\n    </tr>\n  </thead>\n  <tbody>\n    <tr>\n      <th>0</th>\n      <td>1</td>\n      <td>1</td>\n      <td>-0.0007</td>\n      <td>-0.0004</td>\n      <td>100</td>\n      <td>518.67</td>\n      <td>641.82</td>\n      <td>1589.70</td>\n      <td>1400.60</td>\n      <td>14.62</td>\n      <td>...</td>\n      <td>521.66</td>\n      <td>2388.02</td>\n      <td>8138.62</td>\n      <td>8.4195</td>\n      <td>0.03</td>\n      <td>392</td>\n      <td>2388</td>\n      <td>100</td>\n      <td>39.06</td>\n      <td>23.4190</td>\n    </tr>\n    <tr>\n      <th>1</th>\n      <td>1</td>\n      <td>2</td>\n      <td>0.0019</td>\n      <td>-0.0003</td>\n      <td>100</td>\n      <td>518.67</td>\n      <td>642.15</td>\n      <td>1591.82</td>\n      <td>1403.14</td>\n      <td>14.62</td>\n      <td>...</td>\n      <td>522.28</td>\n      <td>2388.07</td>\n      <td>8131.49</td>\n      <td>8.4318</td>\n      <td>0.03</td>\n      <td>392</td>\n      <td>2388</td>\n      <td>100</td>\n      <td>39.00</td>\n      <td>23.4236</td>\n    </tr>\n    <tr>\n      <th>2</th>\n      <td>1</td>\n      <td>3</td>\n      <td>-0.0043</td>\n      <td>0.0003</td>\n      <td>100</td>\n      <td>518.67</td>\n      <td>642.35</td>\n      <td>1587.99</td>\n      <td>1404.20</td>\n      <td>14.62</td>\n      <td>...</td>\n      <td>522.42</td>\n      <td>2388.03</td>\n      <td>8133.23</td>\n      <td>8.4178</td>\n      <td>0.03</td>\n      <td>390</td>\n      <td>2388</td>\n      <td>100</td>\n      <td>38.95</td>\n      <td>23.3442</td>\n    </tr>\n    <tr>\n      <th>3</th>\n      <td>1</td>\n      <td>4</td>\n      <td>0.0007</td>\n      <td>0.0000</td>\n      <td>100</td>\n      <td>518.67</td>\n      <td>642.35</td>\n      <td>1582.79</td>\n      <td>1401.87</td>\n      <td>14.62</td>\n      <td>...</td>\n      <td>522.86</td>\n      <td>2388.08</td>\n      <td>8133.83</td>\n      <td>8.3682</td>\n      <td>0.03</td>\n      <td>392</td>\n      <td>2388</td>\n      <td>100</td>\n      <td>38.88</td>\n      <td>23.3739</td>\n    </tr>\n    <tr>\n      <th>4</th>\n      <td>1</td>\n      <td>5</td>\n      <td>-0.0019</td>\n      <td>-0.0002</td>\n      <td>100</td>\n      <td>518.67</td>\n      <td>642.37</td>\n      <td>1582.85</td>\n      <td>1406.22</td>\n      <td>14.62</td>\n      <td>...</td>\n      <td>522.19</td>\n      <td>2388.04</td>\n      <td>8133.80</td>\n      <td>8.4294</td>\n      <td>0.03</td>\n      <td>393</td>\n      <td>2388</td>\n      <td>100</td>\n      <td>38.90</td>\n      <td>23.4044</td>\n    </tr>\n    <tr>\n      <th>5</th>\n      <td>1</td>\n      <td>6</td>\n      <td>-0.0043</td>\n      <td>-0.0001</td>\n      <td>100</td>\n      <td>518.67</td>\n      <td>642.10</td>\n      <td>1584.47</td>\n      <td>1398.37</td>\n      <td>14.62</td>\n      <td>...</td>\n      <td>521.68</td>\n      <td>2388.03</td>\n      <td>8132.85</td>\n      <td>8.4108</td>\n      <td>0.03</td>\n      <td>391</td>\n      <td>2388</td>\n      <td>100</td>\n      <td>38.98</td>\n      <td>23.3669</td>\n    </tr>\n    <tr>\n      <th>6</th>\n      <td>1</td>\n      <td>7</td>\n      <td>0.0010</td>\n      <td>0.0001</td>\n      <td>100</td>\n      <td>518.67</td>\n      <td>642.48</td>\n      <td>1592.32</td>\n      <td>1397.77</td>\n      <td>14.62</td>\n      <td>...</td>\n      <td>522.32</td>\n      <td>2388.03</td>\n      <td>8132.32</td>\n      <td>8.3974</td>\n      <td>0.03</td>\n      <td>392</td>\n      <td>2388</td>\n      <td>100</td>\n      <td>39.10</td>\n      <td>23.3774</td>\n    </tr>\n    <tr>\n      <th>7</th>\n      <td>1</td>\n      <td>8</td>\n      <td>-0.0034</td>\n      <td>0.0003</td>\n      <td>100</td>\n      <td>518.67</td>\n      <td>642.56</td>\n      <td>1582.96</td>\n      <td>1400.97</td>\n      <td>14.62</td>\n      <td>...</td>\n      <td>522.47</td>\n      <td>2388.03</td>\n      <td>8131.07</td>\n      <td>8.4076</td>\n      <td>0.03</td>\n      <td>391</td>\n      <td>2388</td>\n      <td>100</td>\n      <td>38.97</td>\n      <td>23.3106</td>\n    </tr>\n    <tr>\n      <th>8</th>\n      <td>1</td>\n      <td>9</td>\n      <td>0.0008</td>\n      <td>0.0001</td>\n      <td>100</td>\n      <td>518.67</td>\n      <td>642.12</td>\n      <td>1590.98</td>\n      <td>1394.80</td>\n      <td>14.62</td>\n      <td>...</td>\n      <td>521.79</td>\n      <td>2388.05</td>\n      <td>8125.69</td>\n      <td>8.3728</td>\n      <td>0.03</td>\n      <td>392</td>\n      <td>2388</td>\n      <td>100</td>\n      <td>39.05</td>\n      <td>23.4066</td>\n    </tr>\n    <tr>\n      <th>9</th>\n      <td>1</td>\n      <td>10</td>\n      <td>-0.0033</td>\n      <td>0.0001</td>\n      <td>100</td>\n      <td>518.67</td>\n      <td>641.71</td>\n      <td>1591.24</td>\n      <td>1400.46</td>\n      <td>14.62</td>\n      <td>...</td>\n      <td>521.79</td>\n      <td>2388.06</td>\n      <td>8129.38</td>\n      <td>8.4286</td>\n      <td>0.03</td>\n      <td>393</td>\n      <td>2388</td>\n      <td>100</td>\n      <td>38.95</td>\n      <td>23.4694</td>\n    </tr>\n  </tbody>\n</table>\n<p>10 rows × 26 columns</p>\n</div>"
          },
          "metadata": {}
        }
      ],
      "execution_count": 2,
      "metadata": {
        "gather": {
          "logged": 1632429800039
        }
      }
    },
    {
      "cell_type": "code",
      "source": [
        "def assignrul(df):\r\n",
        "    maxi = df['cycle'].max()\r\n",
        "    df['rul'] = maxi - df['cycle']\r\n",
        "    return df"
      ],
      "outputs": [],
      "execution_count": 3,
      "metadata": {
        "jupyter": {
          "source_hidden": false,
          "outputs_hidden": false
        },
        "nteract": {
          "transient": {
            "deleting": false
          }
        },
        "gather": {
          "logged": 1632429858124
        }
      }
    },
    {
      "cell_type": "code",
      "source": [
        "df_pd = df_pd.groupby('unit').apply(assignrul)\r\n",
        "df_pd.to_csv('data/turbofan.csv', index=False)\r\n"
      ],
      "outputs": [],
      "execution_count": 8,
      "metadata": {
        "jupyter": {
          "source_hidden": false,
          "outputs_hidden": false
        },
        "nteract": {
          "transient": {
            "deleting": false
          }
        },
        "gather": {
          "logged": 1632429913959
        }
      }
    }
  ],
  "metadata": {
    "kernelspec": {
      "name": "python3-azureml",
      "language": "python",
      "display_name": "Python 3.6 - AzureML"
    },
    "language_info": {
      "name": "python",
      "version": "3.6.9",
      "mimetype": "text/x-python",
      "codemirror_mode": {
        "name": "ipython",
        "version": 3
      },
      "pygments_lexer": "ipython3",
      "nbconvert_exporter": "python",
      "file_extension": ".py"
    },
    "kernel_info": {
      "name": "python3-azureml"
    },
    "nteract": {
      "version": "nteract-front-end@1.0.0"
    },
    "microsoft": {
      "host": {
        "AzureML": {
          "notebookHasBeenCompleted": true
        }
      }
    }
  },
  "nbformat": 4,
  "nbformat_minor": 2
}