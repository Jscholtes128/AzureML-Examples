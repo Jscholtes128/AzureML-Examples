{
  "cells": [
    {
      "cell_type": "code",
      "source": [
        "from azureml.core import Experiment, Environment\r\n",
        "from azureml.core.workspace import Workspace\r\n",
        "from azureml.core.runconfig import RunConfiguration\r\n",
        "from azureml.core.conda_dependencies import CondaDependencies\r\n",
        "from azureml.core.compute import ComputeTarget, AmlCompute\r\n",
        "from azureml.core.compute_target import ComputeTargetException\r\n",
        "from azureml.core import ScriptRunConfig\r\n",
        "import sys"
      ],
      "outputs": [],
      "execution_count": 1,
      "metadata": {
        "jupyter": {
          "source_hidden": false,
          "outputs_hidden": false
        },
        "nteract": {
          "transient": {
            "deleting": false
          }
        },
        "gather": {
          "logged": 1632722776731
        }
      }
    },
    {
      "cell_type": "code",
      "source": [
        "ws = Workspace.from_config()\r\n",
        "\r\n",
        "dataset = Dataset.get_by_name(ws, name='NASA TurboFan Databricks')\r\n",
        "df_pd = dataset.to_pandas_dataframe()\r\n",
        "df_pd.to_csv('data/turbofan.csv', index=False)"
      ],
      "outputs": [],
      "execution_count": 2,
      "metadata": {
        "jupyter": {
          "source_hidden": false,
          "outputs_hidden": false
        },
        "nteract": {
          "transient": {
            "deleting": false
          }
        },
        "gather": {
          "logged": 1632722777590
        }
      }
    },
    {
      "cell_type": "code",
      "source": [
        "cpu_cluster_name = \"cpuclst\"\r\n",
        "\r\n",
        "# Verify that cluster does not exist already\r\n",
        "try:\r\n",
        "    cpu_cluster = ComputeTarget(workspace=ws, name=cpu_cluster_name)\r\n",
        "    print('Found existing cluster, use it.')\r\n",
        "except ComputeTargetException:\r\n",
        "    compute_config = AmlCompute.provisioning_configuration(vm_size='STANDARD_D2_V2',\r\n",
        "                                                           max_nodes=4)\r\n",
        "    cpu_cluster = ComputeTarget.create(ws, cpu_cluster_name, compute_config)\r\n",
        "\r\n",
        "cpu_cluster.wait_for_completion(show_output=True)\r\n",
        "\r\n",
        "aml_run_config = RunConfiguration()\r\n",
        "aml_run_config.target = cpu_cluster\r\n",
        "curated_environment = Environment.get(workspace=ws,name=\"sklearn_20_2\")# name=\"AzureML-sklearn-0.24-ubuntu18.04-py37-cpu\")\r\n",
        "aml_run_config.environment = curated_environment\r\n",
        "\r\n",
        "\r\n",
        "############# Experiement remote-gbr-turbofan ######################\r\n",
        "experiement_name = 'gbr-turbofan'\r\n",
        "\r\n",
        "\r\n",
        "exp = Experiment(workspace=ws, name=experiement_name)\r\n",
        "src = ScriptRunConfig(source_directory='./', script='trainpy.py',run_config=aml_run_config)\r\n",
        "\r\n",
        "run = exp.submit(src,tags={\"python version\": sys.version[0:6]})\r\n",
        "\r\n",
        "run.wait_for_completion(show_output = True)"
      ],
      "outputs": [
        {
          "output_type": "stream",
          "name": "stdout",
          "text": "Found existing cluster, use it.\nSucceeded\nAmlCompute wait for completion finished\n\nMinimum number of nodes requested have been provisioned\nRunId: gbr-turbofan_1632722778_eb4c44fe\nWeb View: https://ml.azure.com/runs/gbr-turbofan_1632722778_eb4c44fe?wsid=/subscriptions/0a6d383c-9ce6-490d-89b8-47e6231192c3/resourcegroups/ai-workshop/workspaces/aiw-ml&tid=72f988bf-86f1-41af-91ab-2d7cd011db47\n\nStreaming azureml-logs/55_azureml-execution-tvmps_d521fdd42a97d37c44755071b25b6237561dab1f95e6e6b5a5b585a4dda02390_d.txt\n========================================================================================================================\n\n2021-09-27T06:08:20Z Running following command: /bin/bash -c sudo blobfuse /mnt/batch/tasks/shared/LS_root/jobs/aiw-ml/azureml/gbr-turbofan_1632722778_eb4c44fe/mounts/workspaceblobstore --tmp-path=/mnt/batch/tasks/shared/LS_root/jobs/aiw-ml/azureml/gbr-turbofan_1632722778_eb4c44fe/caches/workspaceblobstore -o ro --file-cache-timeout-in-seconds=1000000 --cache-size-mb=24782 -o nonempty -o allow_other --config-file=/mnt/batch/tasks/shared/LS_root/jobs/aiw-ml/azureml/gbr-turbofan_1632722778_eb4c44fe/configs/workspaceblobstore.cfg --log-level=LOG_WARNING\n2021-09-27T06:08:20Z Successfully mounted a/an Blobfuse File System at /mnt/batch/tasks/shared/LS_root/jobs/aiw-ml/azureml/gbr-turbofan_1632722778_eb4c44fe/mounts/workspaceblobstore\n2021-09-27T06:08:20Z The vmsize standard_ds3_v2 is not a GPU VM, skipping get GPU count by running nvidia-smi command.\n2021-09-27T06:08:20Z Starting output-watcher...\n2021-09-27T06:08:20Z IsDedicatedCompute == True, won't poll for Low Pri Preemption\nLogin Succeeded\nUsing default tag: latest\nlatest: Pulling from azureml/azureml_740c4f192237d6160597c8fb02a3d842\n6e0aa5e7af40: Pulling fs layer\nd47239a868b3: Pulling fs layer\n49cbb10cca85: Pulling fs layer\n4450dd082e0f: Pulling fs layer\n9e7016321668: Pulling fs layer\ne781129b4d11: Pulling fs layer\n44ac523c4054: Pulling fs layer\n67f1460b1a55: Pulling fs layer\nf8d501c7b273: Pulling fs layer\n2427a6486e31: Pulling fs layer\n6f3b0958701d: Pulling fs layer\nc00c316ebe78: Pulling fs layer\n76204f9c7bc6: Pulling fs layer\nd30551e84b92: Pulling fs layer\nd9d84b5933ed: Pulling fs layer\n255139623f67: Pulling fs layer\n2b94afbcecc1: Pulling fs layer\nf8b349484105: Pulling fs layer\na906a6d2b514: Pulling fs layer\naf13731fa688: Pulling fs layer\ndc3e7b3743a0: Pulling fs layer\nd863ac96974d: Pulling fs layer\n431b88095881: Pulling fs layer\n6e4b861744fe: Pulling fs layer\n715584657f34: Pulling fs layer\n5f16194a2df1: Pulling fs layer\n8070aa89a7dc: Pulling fs layer\naeca0231be37: Pulling fs layer\n12f0c8560229: Pulling fs layer\n938722310047: Pulling fs layer\n255139623f67: Waiting\n4450dd082e0f: Waiting\n2b94afbcecc1: Waiting\n9e7016321668: Waiting\nf8b349484105: Waiting\ne781129b4d11: Waiting\na906a6d2b514: Waiting\n44ac523c4054: Waiting\naf13731fa688: Waiting\n67f1460b1a55: Waiting\nf8d501c7b273: Waiting\ndc3e7b3743a0: Waiting\n2427a6486e31: Waiting\nd863ac96974d: Waiting\n6f3b0958701d: Waiting\nc00c316ebe78: Waiting\n76204f9c7bc6: Waiting\n431b88095881: Waiting\nd30551e84b92: Waiting\n6e4b861744fe: Waiting\nd9d84b5933ed: Waiting\n12f0c8560229: Waiting\n715584657f34: Waiting\n5f16194a2df1: Waiting\n8070aa89a7dc: Waiting\naeca0231be37: Waiting\n49cbb10cca85: Verifying Checksum\n49cbb10cca85: Download complete\nd47239a868b3: Verifying Checksum\nd47239a868b3: Download complete\n6e0aa5e7af40: Verifying Checksum\n6e0aa5e7af40: Download complete\ne781129b4d11: Verifying Checksum\ne781129b4d11: Download complete\n4450dd082e0f: Verifying Checksum\n4450dd082e0f: Download complete\n9e7016321668: Verifying Checksum\n9e7016321668: Download complete\n44ac523c4054: Verifying Checksum\n44ac523c4054: Download complete\n6e0aa5e7af40: Pull complete\nd47239a868b3: Pull complete\n49cbb10cca85: Pull complete\n4450dd082e0f: Pull complete\n9e7016321668: Pull complete\ne781129b4d11: Pull complete\n44ac523c4054: Pull complete\n67f1460b1a55: Verifying Checksum\n67f1460b1a55: Download complete\nf8d501c7b273: Verifying Checksum\nf8d501c7b273: Download complete\nc00c316ebe78: Verifying Checksum\nc00c316ebe78: Download complete\n76204f9c7bc6: Verifying Checksum\n76204f9c7bc6: Download complete\nd30551e84b92: Verifying Checksum\nd30551e84b92: Download complete\n2427a6486e31: Verifying Checksum\n2427a6486e31: Download complete\nd9d84b5933ed: Verifying Checksum\nd9d84b5933ed: Download complete\n2b94afbcecc1: Verifying Checksum\n2b94afbcecc1: Download complete\n255139623f67: Verifying Checksum\n255139623f67: Download complete\na906a6d2b514: Verifying Checksum\na906a6d2b514: Download complete\nf8b349484105: Verifying Checksum\nf8b349484105: Download complete\naf13731fa688: Verifying Checksum\naf13731fa688: Download complete\nd863ac96974d: Verifying Checksum\nd863ac96974d: Download complete\ndc3e7b3743a0: Verifying Checksum\ndc3e7b3743a0: Download complete\n431b88095881: Verifying Checksum\n431b88095881: Download complete\n6e4b861744fe: Verifying Checksum\n6e4b861744fe: Download complete\n715584657f34: Verifying Checksum\n715584657f34: Download complete\n8070aa89a7dc: Verifying Checksum\n8070aa89a7dc: Download complete\naeca0231be37: Verifying Checksum\naeca0231be37: Download complete\n12f0c8560229: Verifying Checksum\n12f0c8560229: Download complete\n938722310047: Verifying Checksum\n938722310047: Download complete\n5f16194a2df1: Verifying Checksum\n5f16194a2df1: Download complete\n6f3b0958701d: Verifying Checksum\n6f3b0958701d: Download complete\n67f1460b1a55: Pull complete\n\nStreaming azureml-logs/70_driver_log.txt\n========================================\n\n2021/09/27 06:09:49 Starting App Insight Logger for task:  runTaskLet\n2021/09/27 06:09:49 Version: 3.0.01727.0003 Branch: 2021-09-16+azure-notebooks+ci-mount-hf Commit: f9ec047\n2021/09/27 06:09:49 Attempt 1 of http call to http://10.0.0.4:16384/sendlogstoartifacts/info\n2021/09/27 06:09:49 Send process info logs to master server succeeded\n2021/09/27 06:09:49 Attempt 1 of http call to http://10.0.0.4:16384/sendlogstoartifacts/status\n2021/09/27 06:09:49 Send process info logs to master server succeeded\n[2021-09-27T06:09:49.116003] Entering context manager injector.\n[2021-09-27T06:09:49.656142] context_manager_injector.py Command line Options: Namespace(inject=['ProjectPythonPath:context_managers.ProjectPythonPath', 'RunHistory:context_managers.RunHistory', 'TrackUserError:context_managers.TrackUserError', 'UserExceptions:context_managers.UserExceptions'], invocation=['trainpy.py'])\nScript type = None\n[2021-09-27T06:09:49.659993] Entering Run History Context Manager.\n[2021-09-27T06:09:50.439709] Current directory: /mnt/batch/tasks/shared/LS_root/jobs/aiw-ml/azureml/gbr-turbofan_1632722778_eb4c44fe/wd/azureml/gbr-turbofan_1632722778_eb4c44fe\n[2021-09-27T06:09:50.439761] Preparing to call script [trainpy.py] with arguments:[]\n[2021-09-27T06:09:50.439788] After variable expansion, calling script [trainpy.py] with arguments:[]\n\n2021/09/27 06:09:54 Not exporting to RunHistory as the exporter is either stopped or there is no data.\nStopped: false\nOriginalData: 1\nFilteredData: 0.\n"
        },
        {
          "output_type": "stream",
          "name": "stderr",
          "text": "Submitting /mnt/batch/tasks/shared/LS_root/mounts/clusters/cpuinstance/code/Users/joscholt/TurboFan/Python directory for run. The size of the directory >= 25 MB, so it can take a few minutes.\n"
        }
      ],
      "execution_count": 3,
      "metadata": {}
    }
  ],
  "metadata": {
    "kernelspec": {
      "name": "python3-azureml",
      "language": "python",
      "display_name": "Python 3.6 - AzureML"
    },
    "language_info": {
      "name": "python",
      "version": "3.6.9",
      "mimetype": "text/x-python",
      "codemirror_mode": {
        "name": "ipython",
        "version": 3
      },
      "pygments_lexer": "ipython3",
      "nbconvert_exporter": "python",
      "file_extension": ".py"
    },
    "kernel_info": {
      "name": "python3-azureml"
    },
    "nteract": {
      "version": "nteract-front-end@1.0.0"
    }
  },
  "nbformat": 4,
  "nbformat_minor": 0
}