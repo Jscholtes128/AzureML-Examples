{
  "cells": [
    {
      "cell_type": "code",
      "source": [
        "from azureml.train.hyperdrive import BayesianParameterSampling, choice, uniform\r\n",
        "from azureml.train.hyperdrive import BanditPolicy\r\n",
        "from azureml.core import Workspace\r\n",
        "from azureml.core import Experiment, Environment\r\n",
        "from azureml.train.hyperdrive import HyperDriveConfig, PrimaryMetricGoal\r\n",
        "from azureml.core.runconfig import RunConfiguration\r\n",
        "from azureml.core.conda_dependencies import CondaDependencies\r\n",
        "from azureml.core.compute import ComputeTarget, AmlCompute\r\n",
        "from azureml.core.compute_target import ComputeTargetException\r\n",
        "from azureml.core import ScriptRunConfig\r\n",
        "\r\n"
      ],
      "outputs": [],
      "execution_count": 1,
      "metadata": {
        "gather": {
          "logged": 1635282815189
        }
      }
    },
    {
      "cell_type": "code",
      "source": [
        "ws = Workspace.from_config()"
      ],
      "outputs": [],
      "execution_count": 2,
      "metadata": {
        "jupyter": {
          "source_hidden": false,
          "outputs_hidden": false
        },
        "nteract": {
          "transient": {
            "deleting": false
          }
        },
        "gather": {
          "logged": 1635282815678
        }
      }
    },
    {
      "cell_type": "code",
      "source": [
        "param_space = {\r\n",
        "                 '--n_estimators': choice(1,5,10, 50, 100,500),\r\n",
        "                 '--max_depth': choice(range(1,3))\r\n",
        "              }\r\n",
        "\r\n",
        "#Bayesian tries to select parameter combinations that will result in improved performance from the previous selection\r\n",
        "param_sampling = BayesianParameterSampling(param_space)\r\n",
        "\r\n",
        "\r\n",
        "#bandit policy to stop a run if the target performance metric underperforms the best run so far by a specified margin\r\n",
        "\r\n",
        "early_termination_policy = BanditPolicy(slack_amount = 0.2,\r\n",
        "                                        evaluation_interval=1,\r\n",
        "                                        delay_evaluation=5)"
      ],
      "outputs": [],
      "execution_count": 3,
      "metadata": {
        "jupyter": {
          "source_hidden": false,
          "outputs_hidden": false
        },
        "nteract": {
          "transient": {
            "deleting": false
          }
        },
        "gather": {
          "logged": 1635282815818
        }
      }
    },
    {
      "cell_type": "code",
      "source": [
        "cpu_cluster_name = \"cpuclst\"\r\n",
        "\r\n",
        "# Verify that cluster does not exist already\r\n",
        "try:\r\n",
        "    cpu_cluster = ComputeTarget(workspace=ws, name=cpu_cluster_name)\r\n",
        "    print('Found existing cluster, use it.')\r\n",
        "except ComputeTargetException:\r\n",
        "    compute_config = AmlCompute.provisioning_configuration(vm_size='STANDARD_DS3_V2', \r\n",
        "                                                           idle_seconds_before_scaledown=3600,\r\n",
        "                                                           min_nodes=0, \r\n",
        "                                                           max_nodes=4)\r\n",
        "    cpu_cluster = ComputeTarget.create(ws, cpu_cluster_name, compute_config)\r\n",
        "\r\n",
        "cpu_cluster.wait_for_completion(show_output=True)\r\n",
        "\r\n",
        "aml_run_config = RunConfiguration()\r\n",
        "aml_run_config.target = cpu_cluster\r\n",
        "\r\n",
        "curated_environment = Environment.get(workspace=ws,name=\"sklearn_20_2\")\r\n",
        "aml_run_config.environment = curated_environment\r\n",
        "\r\n",
        "script_config = ScriptRunConfig(source_directory='./', script='train.py',run_config=aml_run_config)\r\n",
        "\r\n",
        "\r\n"
      ],
      "outputs": [
        {
          "output_type": "stream",
          "name": "stdout",
          "text": "Found existing cluster, use it.\nSucceeded\nAmlCompute wait for completion finished\n\nMinimum number of nodes requested have been provisioned\n"
        }
      ],
      "execution_count": 4,
      "metadata": {
        "jupyter": {
          "source_hidden": false,
          "outputs_hidden": false
        },
        "nteract": {
          "transient": {
            "deleting": false
          }
        },
        "gather": {
          "logged": 1635282816032
        }
      }
    },
    {
      "cell_type": "code",
      "source": [
        "\r\n",
        "hyperdrive = HyperDriveConfig(run_config=script_config,\r\n",
        "                              hyperparameter_sampling=param_sampling,\r\n",
        "                              policy=None,\r\n",
        "                              primary_metric_name='Accuracy',\r\n",
        "                              primary_metric_goal=PrimaryMetricGoal.MAXIMIZE,\r\n",
        "                              max_total_runs=6,\r\n",
        "                              max_concurrent_runs=4)\r\n",
        "\r\n",
        "experiment = Experiment(workspace = ws, name = 'hyperdrive_training')\r\n",
        "hyperdrive_run = experiment.submit(config=hyperdrive)\r\n",
        "hyperdrive_run.wait_for_completion()"
      ],
      "outputs": [
        {
          "output_type": "stream",
          "name": "stderr",
          "text": "For best results with Bayesian Sampling we recommend using a maximum number of runs greater than or equal to 20 times the number of hyperparameters being tuned. Recommendend value:40.\n"
        }
      ],
      "execution_count": 5,
      "metadata": {
        "jupyter": {
          "source_hidden": false,
          "outputs_hidden": false
        },
        "nteract": {
          "transient": {
            "deleting": false
          }
        },
        "gather": {
          "logged": 1635282403745
        }
      }
    },
    {
      "cell_type": "code",
      "source": [
        "best_run = hyperdrive_run.get_best_run_by_primary_metric()\r\n",
        "best_run_metrics = best_run.get_metrics()\r\n",
        "parameter_values = best_run.get_details()['runDefinition']['arguments']\r\n",
        "\r\n",
        "print('Best Run Id: ', best_run.id)\r\n",
        "print('\\n Accuracy:', best_run_metrics['accuracy'])\r\n",
        "print('\\n learning rate:',parameter_values[3])\r\n",
        "print('\\n keep probability:',parameter_values[5])\r\n",
        "print('\\n batch size:',parameter_values[7])"
      ],
      "outputs": [],
      "execution_count": null,
      "metadata": {
        "jupyter": {
          "source_hidden": false,
          "outputs_hidden": false
        },
        "nteract": {
          "transient": {
            "deleting": false
          }
        }
      }
    }
  ],
  "metadata": {
    "kernelspec": {
      "name": "python3-azureml",
      "language": "python",
      "display_name": "Python 3.6 - AzureML"
    },
    "language_info": {
      "name": "python",
      "version": "3.6.9",
      "mimetype": "text/x-python",
      "codemirror_mode": {
        "name": "ipython",
        "version": 3
      },
      "pygments_lexer": "ipython3",
      "nbconvert_exporter": "python",
      "file_extension": ".py"
    },
    "kernel_info": {
      "name": "python3-azureml"
    },
    "microsoft": {
      "host": {
        "AzureML": {
          "notebookHasBeenCompleted": true
        }
      }
    },
    "nteract": {
      "version": "nteract-front-end@1.0.0"
    }
  },
  "nbformat": 4,
  "nbformat_minor": 0
}