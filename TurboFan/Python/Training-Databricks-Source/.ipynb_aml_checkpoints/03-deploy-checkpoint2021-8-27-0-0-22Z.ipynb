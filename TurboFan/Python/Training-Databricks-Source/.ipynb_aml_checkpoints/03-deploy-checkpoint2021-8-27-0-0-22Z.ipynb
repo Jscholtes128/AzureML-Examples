{
  "cells": [
    {
      "cell_type": "code",
      "source": [
        "from azureml.core.webservice import AciWebservice, Webservice\r\n",
        "from azureml.core.image import ContainerImage\r\n",
        "from azureml.core.experiment import Experiment\r\n",
        "from azureml.core.workspace import Workspace\r\n",
        "from azureml.core.environment import Environment\r\n",
        "from azureml.core.conda_dependencies import CondaDependencies\r\n",
        "from azureml.core.model import InferenceConfig,Model"
      ],
      "outputs": [],
      "execution_count": null,
      "metadata": {}
    },
    {
      "cell_type": "code",
      "source": [
        "ws = Workspace.from_config()"
      ],
      "outputs": [],
      "execution_count": null,
      "metadata": {
        "jupyter": {
          "source_hidden": false,
          "outputs_hidden": false
        },
        "nteract": {
          "transient": {
            "deleting": false
          }
        }
      }
    },
    {
      "cell_type": "code",
      "source": [
        "webservice_name = 'turbofan-rul'\r\n",
        "\r\n",
        "run = [x for x in ws.experiments['gbr-turbofan'].get_runs()][0]\r\n",
        "run_metrics = run.get_metrics()\r\n",
        "\r\n",
        "print(run)\r\n",
        "\r\n",
        "model = run.register_model(model_name = \"turbofan-rul\", model_path = \"outputs/model.pkl\", tags={\"mae\":run_metrics[\"mae\"],\"python version\": sys.version[0:6]})\r\n",
        "\r\n",
        "deployment_config = AciWebservice.deploy_configuration(cpu_cores = 1, memory_gb = 1,auth_enabled=True)"
      ],
      "outputs": [],
      "execution_count": null,
      "metadata": {
        "jupyter": {
          "source_hidden": false,
          "outputs_hidden": false
        },
        "nteract": {
          "transient": {
            "deleting": false
          }
        }
      }
    },
    {
      "cell_type": "code",
      "source": [
        "inference_config = InferenceConfig(entry_script=\"score.py\",\r\n",
        "                                   environment=Environment.get(workspace=ws,name=\"sklearn 2.2\"))\r\n",
        "                               \r\n",
        "try:\r\n",
        "    service = Webservice(Webservice, webservice_name)        \r\n",
        "    service.delete()    \r\n",
        "except Exception as e:\r\n",
        "    print(\"No Existing Service\")\r\n",
        "\r\n",
        "service = Model.deploy(ws, webservice_name, [model], inference_config, deployment_config)\r\n",
        "\r\n",
        "#service.get_logs()\r\n",
        "service.wait_for_deployment(show_output = True)\r\n",
        "\r\n",
        "#print(service.get_keys())\r\n",
        "print(service.scoring_uri)"
      ],
      "outputs": [],
      "execution_count": null,
      "metadata": {
        "jupyter": {
          "source_hidden": false,
          "outputs_hidden": false
        },
        "nteract": {
          "transient": {
            "deleting": false
          }
        }
      }
    }
  ],
  "metadata": {
    "kernelspec": {
      "name": "python3-azureml",
      "language": "python",
      "display_name": "Python 3.6 - AzureML"
    },
    "language_info": {
      "name": "python",
      "version": "3.6.9",
      "mimetype": "text/x-python",
      "codemirror_mode": {
        "name": "ipython",
        "version": 3
      },
      "pygments_lexer": "ipython3",
      "nbconvert_exporter": "python",
      "file_extension": ".py"
    },
    "kernel_info": {
      "name": "python3-azureml"
    },
    "nteract": {
      "version": "nteract-front-end@1.0.0"
    }
  },
  "nbformat": 4,
  "nbformat_minor": 2
}