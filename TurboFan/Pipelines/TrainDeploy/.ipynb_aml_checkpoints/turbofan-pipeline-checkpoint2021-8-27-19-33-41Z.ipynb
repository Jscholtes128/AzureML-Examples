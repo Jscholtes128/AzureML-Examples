{
  "cells": [
    {
      "cell_type": "code",
      "source": [
        "from azureml.core import Workspace\r\n",
        "from azureml.core import Experiment, Environment\r\n",
        "from azureml.pipeline.core import Pipeline\r\n",
        "from azureml.data.data_reference import DataReference\r\n",
        "from azureml.core.compute import AmlCompute, ComputeTarget\r\n",
        "from azureml.core.runconfig import RunConfiguration\r\n",
        "from modules.ingestion.data_ingestion_step import data_ingestion_step\r\n",
        "from modules.preprocess.data_preprocess_step import data_preprocess_step\r\n",
        "from modules.train.train_step import train_step\r\n",
        "from modules.evaluate.evaluate_step import evaluate_step\r\n",
        "from modules.explainer.explainer_step import explainer_step\r\n",
        "from modules.deploy.deployTest_step import deployTest_step\r\n",
        "from modules.deploy.deployProd_step import deployProd_step\r\n",
        "\r\n",
        "import json"
      ],
      "outputs": [],
      "execution_count": 1,
      "metadata": {
        "gather": {
          "logged": 1632770847547
        }
      }
    },
    {
      "cell_type": "code",
      "source": [
        "ws = Workspace.from_config()\r\n",
        "\r\n",
        "datastore = ws.get_default_datastore()\r\n",
        "\r\n",
        "datastore = DataReference(datastore, mode='mount')"
      ],
      "outputs": [],
      "execution_count": 2,
      "metadata": {
        "jupyter": {
          "source_hidden": false,
          "outputs_hidden": false
        },
        "nteract": {
          "transient": {
            "deleting": false
          }
        },
        "gather": {
          "logged": 1632770848536
        }
      }
    },
    {
      "cell_type": "code",
      "source": [
        "# Create CPU compute target\r\n",
        "print('Creating CPU compute target ...')\r\n",
        "cpu_cluster_name = 'cpuclst'\r\n",
        "cpu_compute_config = AmlCompute.provisioning_configuration(vm_size='STANDARD_DS3_V2', \r\n",
        "                                                           idle_seconds_before_scaledown=1200,\r\n",
        "                                                           min_nodes=0, \r\n",
        "                                                           max_nodes=2)\r\n",
        "cpu_compute_target = ComputeTarget.create(ws, cpu_cluster_name, cpu_compute_config)\r\n",
        "cpu_compute_target.wait_for_completion(show_output=True)\r\n",
        "\r\n",
        "\r\n",
        "aml_run_config = RunConfiguration()\r\n",
        "aml_run_config.target = cpu_compute_target\r\n",
        "curated_environment = Environment.get(workspace=ws,name=\"sklearn_20\")# name=\"AzureML-sklearn-0.24-ubuntu18.04-py37-cpu\")\r\n",
        "aml_run_config.environment = curated_environment"
      ],
      "outputs": [
        {
          "output_type": "stream",
          "name": "stdout",
          "text": "Creating CPU compute target ...\nInProgress.\nSucceededProvisioning operation finished, operation \"Succeeded\"\nSucceeded\nAmlCompute wait for completion finished\n\nMinimum number of nodes requested have been provisioned\n"
        }
      ],
      "execution_count": 3,
      "metadata": {
        "jupyter": {
          "source_hidden": false,
          "outputs_hidden": false
        },
        "nteract": {
          "transient": {
            "deleting": false
          }
        },
        "gather": {
          "logged": 1632770853695
        }
      }
    },
    {
      "cell_type": "code",
      "source": [
        "# Step 1: Data ingestion \r\n",
        "data_ingestion_step, data_ingestion_outputs = data_ingestion_step(datastore, cpu_compute_target,aml_run_config)\r\n",
        "\r\n",
        "# Step 2: Data preprocessing \r\n",
        "data_preprocess_step, data_preprocess_outputs = data_preprocess_step(data_ingestion_outputs['raw_data_dir'], cpu_compute_target,aml_run_config)\r\n",
        "\r\n",
        "# Step 3: Train Model\r\n",
        "train_step, train_outputs = train_step(data_preprocess_outputs['train_dir'], cpu_compute_target,aml_run_config)\r\n",
        "\r\n",
        "# Step 4: Evaluate Model\r\n",
        "evaluate_step, evaluate_outputs = evaluate_step(train_outputs['model_dir'], data_preprocess_outputs['test_dir'], cpu_compute_target,aml_run_config)\r\n",
        "\r\n",
        "# Step 5: Evaluate Model\r\n",
        "explainer_step = explainer_step(train_outputs['model_dir'], data_preprocess_outputs['test_dir'],data_preprocess_outputs['train_dir'], cpu_compute_target,aml_run_config)\r\n",
        "\r\n",
        "# Step 6: Deploy Model Test\r\n",
        "deploy_test_step, deploytest_outputs = deployTest_step(train_outputs['model_dir'],evaluate_outputs['accuracy_file'], data_preprocess_outputs['test_dir'], cpu_compute_target,aml_run_config)\r\n",
        "\r\n",
        "# Step 7: Deploy Model Prod\r\n",
        "deploy_prod_step, deployprod_outputs = deployProd_step( evaluate_outputs['accuracy_file'], data_preprocess_outputs['test_dir'],cpu_compute_target,aml_run_config)\r\n"
      ],
      "outputs": [],
      "execution_count": 4,
      "metadata": {
        "jupyter": {
          "source_hidden": false,
          "outputs_hidden": false
        },
        "nteract": {
          "transient": {
            "deleting": false
          }
        },
        "gather": {
          "logged": 1632770853909
        }
      }
    },
    {
      "cell_type": "code",
      "source": [
        "# Submit pipeline\r\n",
        "print('Submitting pipeline ...')\r\n",
        "pipeline_parameters = {\r\n",
        "    'max_depth': 5,\r\n",
        "    'n_estimators': 500,\r\n",
        "    'prod_deploy': 0,\r\n",
        "    'endpoint_traffic_pct': 10,\r\n",
        "    'set_endpoint_as_default': 0\r\n",
        "}\r\n",
        "\r\n",
        "\r\n",
        "# Submit pipeline\r\n",
        "print('Submitting pipeline ...')\r\n",
        "\r\n",
        "pipeline = Pipeline(workspace=ws, steps=[data_ingestion_step,data_preprocess_step,train_step,evaluate_step,explainer_step, deploy_test_step,deploy_prod_step])\r\n",
        "pipeline_run = Experiment(ws, 'turbofan-pipeline').submit(pipeline, pipeline_parameters=pipeline_parameters)"
      ],
      "outputs": [
        {
          "output_type": "stream",
          "name": "stdout",
          "text": "Submitting pipeline ...\nSubmitting pipeline ...\nCreated step data_ingestion.py [40883c80][64b2bda7-b632-47c8-ae9d-eef91e2d5032], (This step is eligible to reuse a previous run's output)\nCreated step data_preprocess.py [2753e203][48f29293-49e6-4141-b4ef-ca81a0ebb39b], (This step is eligible to reuse a previous run's output)\nCreated step train_data [cb09f482][4a428d6f-fb97-45a9-b6b5-1ead4f7d3e91], (This step will run and generate new outputs)\nCreated step eval [5478604c][bc6d0c67-7ab7-4f4e-9b21-f6c2563c7475], (This step will run and generate new outputs)Created step explainer [691f2402][348585ab-da5d-4edf-9787-3dc1604be091], (This step will run and generate new outputs)\nCreated step deployTest.py [7b31d450][410263a0-b7f4-47b6-a956-a4dcc9998efc], (This step will run and generate new outputs)\nCreated step deployProd.py [398712ae][88aed277-8b38-42b2-9ebb-4321f27c3948], (This step will run and generate new outputs)\n\nUsing data reference workspaceblobstore for StepId [a0b5d603][b870ed78-17e6-465d-8f70-e4d1545f7618], (Consumers of this data are eligible to reuse prior runs.)\nSubmitted PipelineRun 2a6bea8e-ced0-4e71-aa6f-9359faa954bc\nLink to Azure Machine Learning Portal: https://ml.azure.com/runs/2a6bea8e-ced0-4e71-aa6f-9359faa954bc?wsid=/subscriptions/0a6d383c-9ce6-490d-89b8-47e6231192c3/resourcegroups/ai-workshop/workspaces/aiw-ml&tid=72f988bf-86f1-41af-91ab-2d7cd011db47\n"
        }
      ],
      "execution_count": 5,
      "metadata": {
        "jupyter": {
          "source_hidden": false,
          "outputs_hidden": false
        },
        "nteract": {
          "transient": {
            "deleting": false
          }
        },
        "gather": {
          "logged": 1632770858602
        }
      }
    }
  ],
  "metadata": {
    "kernelspec": {
      "name": "python3-azureml",
      "language": "python",
      "display_name": "Python 3.6 - AzureML"
    },
    "language_info": {
      "name": "python",
      "version": "3.6.9",
      "mimetype": "text/x-python",
      "codemirror_mode": {
        "name": "ipython",
        "version": 3
      },
      "pygments_lexer": "ipython3",
      "nbconvert_exporter": "python",
      "file_extension": ".py"
    },
    "kernel_info": {
      "name": "python3-azureml"
    },
    "microsoft": {
      "host": {
        "AzureML": {
          "notebookHasBeenCompleted": true
        }
      }
    },
    "nteract": {
      "version": "nteract-front-end@1.0.0"
    }
  },
  "nbformat": 4,
  "nbformat_minor": 2
}