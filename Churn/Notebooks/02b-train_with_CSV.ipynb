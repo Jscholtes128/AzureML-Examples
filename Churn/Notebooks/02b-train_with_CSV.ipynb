{
  "cells": [
    {
      "cell_type": "code",
      "source": [
        "from azureml.core import Workspace, Experiment\r\n",
        "from sklearn.preprocessing import LabelEncoder\r\n",
        "import pandas as pd\r\n",
        "from sklearn.model_selection import train_test_split\r\n",
        "from sklearn.metrics import average_precision_score,accuracy_score,f1_score,classification_report,precision_recall_curve,confusion_matrix,roc_auc_score,precision_score, recall_score,roc_curve\r\n",
        "from sklearn.ensemble import RandomForestClassifier\r\n",
        "from azureml.core.experiment import Experiment\r\n",
        "from azureml.core.workspace import Workspace,Dataset\r\n",
        "from sklearn.externals import joblib\r\n",
        "import sys"
      ],
      "outputs": [
        {
          "output_type": "stream",
          "name": "stderr",
          "text": "/anaconda/envs/azureml_py36/lib/python3.6/site-packages/sklearn/externals/joblib/__init__.py:15: FutureWarning: sklearn.externals.joblib is deprecated in 0.21 and will be removed in 0.23. Please import this functionality directly from joblib, which can be installed with: pip install joblib. If this warning is raised when loading pickled models, you may need to re-serialize those models with scikit-learn 0.21+.\n  warnings.warn(msg, category=FutureWarning)\n"
        }
      ],
      "execution_count": 1,
      "metadata": {
        "gather": {
          "logged": 1635266130452
        }
      }
    },
    {
      "cell_type": "code",
      "source": [
        "ws = Workspace.from_config()\r\n",
        "n_estimators = 10"
      ],
      "outputs": [],
      "execution_count": 2,
      "metadata": {
        "jupyter": {
          "source_hidden": false,
          "outputs_hidden": false
        },
        "nteract": {
          "transient": {
            "deleting": false
          }
        },
        "gather": {
          "logged": 1635266132043
        }
      }
    },
    {
      "cell_type": "code",
      "source": [
        "\r\n",
        "train = pd.read_csv('data/churn.csv')"
      ],
      "outputs": [],
      "execution_count": 3,
      "metadata": {
        "jupyter": {
          "source_hidden": false,
          "outputs_hidden": false
        },
        "nteract": {
          "transient": {
            "deleting": false
          }
        },
        "gather": {
          "logged": 1635266135223
        }
      }
    },
    {
      "cell_type": "code",
      "source": [
        "experiment = Experiment(ws, 'churn-classifier')\r\n",
        "\r\n",
        "\r\n",
        "run =  experiment.start_logging()\r\n",
        "run.tag(\"python version\", sys.version[0:6])\r\n",
        "run.log('n_estimators', n_estimators)\r\n",
        "\r\n",
        "X = train.drop('Exited', axis=1)\r\n",
        "y = train['Exited']\r\n",
        "\r\n",
        "X_train, X_test, y_train, y_test = train_test_split(X, y, test_size=0.3)"
      ],
      "outputs": [],
      "execution_count": 4,
      "metadata": {
        "jupyter": {
          "source_hidden": false,
          "outputs_hidden": false
        },
        "nteract": {
          "transient": {
            "deleting": false
          }
        },
        "gather": {
          "logged": 1635266136820
        }
      }
    },
    {
      "cell_type": "markdown",
      "source": [
        "## Sklearn Pipeline"
      ],
      "metadata": {
        "nteract": {
          "transient": {
            "deleting": false
          }
        }
      }
    },
    {
      "cell_type": "code",
      "source": [
        "from sklearn.pipeline import Pipeline\r\n",
        "from sklearn.preprocessing import StandardScaler, OneHotEncoder\r\n",
        "from sklearn.impute import SimpleImputer\r\n",
        "from sklearn.decomposition import TruncatedSVD\r\n",
        "from sklearn.compose import ColumnTransformer\r\n",
        "\r\n",
        "\r\n",
        "numeric_features = X_train.select_dtypes(include=['int64', 'float64']).columns\r\n",
        "categorical_features = X_train.select_dtypes(include=['object']).columns\r\n",
        "\r\n",
        "rf = RandomForestClassifier(n_estimators=n_estimators)\r\n",
        "\r\n",
        "numeric_transformer = Pipeline(steps=[\r\n",
        "    ('imputer', SimpleImputer(strategy='median')),\r\n",
        "    ('scaler', StandardScaler())\r\n",
        "])\r\n",
        "\r\n",
        "categorical_transformer = Pipeline(steps=[\r\n",
        "    ('imputer', SimpleImputer(strategy='constant', fill_value='missing')),\r\n",
        "    ('onehot', OneHotEncoder(handle_unknown='ignore'))\r\n",
        "])\r\n",
        "\r\n",
        "preprocessor = ColumnTransformer(\r\n",
        "    transformers=[\r\n",
        "        ('num', numeric_transformer, numeric_features),\r\n",
        "        ('cat', categorical_transformer, categorical_features)\r\n",
        "    ])\r\n",
        "\r\n",
        "model = Pipeline(steps=[\r\n",
        "    ('precprocessor', preprocessor),\r\n",
        "    ('classifier', rf)\r\n",
        "])"
      ],
      "outputs": [],
      "execution_count": 5,
      "metadata": {
        "jupyter": {
          "source_hidden": false,
          "outputs_hidden": false
        },
        "nteract": {
          "transient": {
            "deleting": false
          }
        },
        "gather": {
          "logged": 1635266139945
        }
      }
    },
    {
      "cell_type": "markdown",
      "source": [
        "### Train Model Pipeline and log experiment metrics"
      ],
      "metadata": {
        "nteract": {
          "transient": {
            "deleting": false
          }
        }
      }
    },
    {
      "cell_type": "code",
      "source": [
        "model.fit(X_train,y_train)\r\n",
        "\r\n",
        "y_pred = model.predict(X_test)\r\n",
        "train_probs = model.predict_proba(X_train)[:,1] \r\n",
        "probs = model.predict_proba(X_test)[:, 1]\r\n",
        "train_predictions = model.predict(X_train)\r\n",
        "\r\n",
        "run.log(\"accuracy\",accuracy_score(y_test, y_pred))\r\n",
        "run.log(\"auc\",roc_auc_score(y_test, probs))"
      ],
      "outputs": [],
      "execution_count": 6,
      "metadata": {
        "jupyter": {
          "source_hidden": false,
          "outputs_hidden": false
        },
        "nteract": {
          "transient": {
            "deleting": false
          }
        },
        "gather": {
          "logged": 1635266141537
        }
      }
    },
    {
      "cell_type": "markdown",
      "source": [
        "### Generate and log ROC Plot"
      ],
      "metadata": {
        "nteract": {
          "transient": {
            "deleting": false
          }
        }
      }
    },
    {
      "cell_type": "code",
      "source": [
        "import matplotlib.pyplot as plt\r\n",
        "def evaluate_model(y_pred, probs,train_predictions, train_probs):\r\n",
        "    baseline = {}\r\n",
        "    baseline['recall']=recall_score(y_test,\r\n",
        "                    [1 for _ in range(len(y_test))])\r\n",
        "    baseline['precision'] = precision_score(y_test,\r\n",
        "                    [1 for _ in range(len(y_test))])\r\n",
        "    baseline['roc'] = 0.5\r\n",
        "    results = {}\r\n",
        "    results['recall'] = recall_score(y_test, y_pred)\r\n",
        "    results['precision'] = precision_score(y_test, y_pred)\r\n",
        "    results['roc'] = roc_auc_score(y_test, probs)\r\n",
        "    train_results = {}\r\n",
        "    train_results['recall'] = recall_score(y_train,       train_predictions)\r\n",
        "    train_results['precision'] = precision_score(y_train, train_predictions)\r\n",
        "    train_results['roc'] = roc_auc_score(y_train, train_probs)\r\n",
        "\r\n",
        "    base_fpr, base_tpr, _ = roc_curve(y_test, [1 for _ in range(len(y_test))])\r\n",
        "    model_fpr, model_tpr, _ = roc_curve(y_test, probs)\r\n",
        "    plt.figure(figsize = (8, 6))\r\n",
        "    plt.rcParams['font.size'] = 16\r\n",
        "    # Plot both curves\r\n",
        "    plt.plot(base_fpr, base_tpr, 'b', label = 'baseline')\r\n",
        "    plt.plot(model_fpr, model_tpr, 'r', label = 'model')\r\n",
        "    plt.legend();\r\n",
        "    plt.xlabel('False Positive Rate');\r\n",
        "    plt.ylabel('True Positive Rate'); plt.title('ROC Curves');\r\n",
        "    run.log_image('ROC', path=None, plot=plt, description='ROC Curve')\r\n",
        "    plt.show();"
      ],
      "outputs": [],
      "execution_count": 7,
      "metadata": {
        "jupyter": {
          "source_hidden": false,
          "outputs_hidden": false
        },
        "nteract": {
          "transient": {
            "deleting": false
          }
        },
        "gather": {
          "logged": 1635266144789
        }
      }
    },
    {
      "cell_type": "code",
      "source": [
        "evaluate_model(y_pred,probs,train_predictions,train_probs)"
      ],
      "outputs": [
        {
          "output_type": "display_data",
          "data": {
            "text/plain": "<Figure size 576x432 with 1 Axes>",
            "image/png": "[encoded data removed]"
          },
          "metadata": {
            "needs_background": "light"
          }
        }
      ],
      "execution_count": 8,
      "metadata": {
        "jupyter": {
          "source_hidden": false,
          "outputs_hidden": false
        },
        "nteract": {
          "transient": {
            "deleting": false
          }
        },
        "gather": {
          "logged": 1635266148182
        }
      }
    },
    {
      "cell_type": "code",
      "source": [
        "model_file_name = 'outputs/model.pkl'\r\n",
        "\r\n",
        "joblib.dump(value = model, filename = model_file_name)\r\n",
        "run.complete()"
      ],
      "outputs": [],
      "execution_count": 9,
      "metadata": {
        "jupyter": {
          "source_hidden": false,
          "outputs_hidden": false
        },
        "nteract": {
          "transient": {
            "deleting": false
          }
        },
        "gather": {
          "logged": 1635266149532
        }
      }
    }
  ],
  "metadata": {
    "kernelspec": {
      "name": "python3-azureml",
      "language": "python",
      "display_name": "Python 3.6 - AzureML"
    },
    "language_info": {
      "name": "python",
      "version": "3.6.9",
      "mimetype": "text/x-python",
      "codemirror_mode": {
        "name": "ipython",
        "version": 3
      },
      "pygments_lexer": "ipython3",
      "nbconvert_exporter": "python",
      "file_extension": ".py"
    },
    "kernel_info": {
      "name": "python3-azureml"
    },
    "microsoft": {
      "host": {
        "AzureML": {
          "notebookHasBeenCompleted": true
        }
      }
    },
    "nteract": {
      "version": "nteract-front-end@1.0.0"
    }
  },
  "nbformat": 4,
  "nbformat_minor": 0
}