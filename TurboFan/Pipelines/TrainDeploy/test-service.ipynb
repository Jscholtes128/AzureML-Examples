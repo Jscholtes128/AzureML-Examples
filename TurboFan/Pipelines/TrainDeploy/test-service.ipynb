{
  "cells": [
    {
      "cell_type": "code",
      "source": [
        "import numpy as np\r\n",
        "import pandas as pd\r\n",
        "import json\r\n",
        "import requests\r\n",
        "from azureml.core.webservice import AciWebservice, Webservice\r\n",
        "from azureml.core.image import ContainerImage\r\n",
        "from azureml.core.experiment import Experiment\r\n",
        "from azureml.core import Workspace, Dataset\r\n"
      ],
      "outputs": [],
      "execution_count": 1,
      "metadata": {
        "gather": {
          "logged": 1632839152576
        }
      }
    },
    {
      "cell_type": "code",
      "source": [
        "ws = Workspace.from_config()"
      ],
      "outputs": [],
      "execution_count": 2,
      "metadata": {
        "jupyter": {
          "source_hidden": false,
          "outputs_hidden": false
        },
        "nteract": {
          "transient": {
            "deleting": false
          }
        },
        "gather": {
          "logged": 1632839152931
        }
      }
    },
    {
      "cell_type": "code",
      "source": [
        "dataset = Dataset.get_by_name(ws, name='NASA TurboFan AutoML')\r\n",
        "df_pd = dataset.to_pandas_dataframe()"
      ],
      "outputs": [
        {
          "output_type": "stream",
          "name": "stdout",
          "text": "Getting data access token with Assigned Identity (client_id=clientid).\n"
        }
      ],
      "execution_count": 3,
      "metadata": {
        "jupyter": {
          "source_hidden": false,
          "outputs_hidden": false
        },
        "nteract": {
          "transient": {
            "deleting": false
          }
        },
        "gather": {
          "logged": 1632839160623
        }
      }
    },
    {
      "cell_type": "code",
      "source": [
        "webservice_name = 'turbofan-rul-service'"
      ],
      "outputs": [],
      "execution_count": 4,
      "metadata": {
        "jupyter": {
          "source_hidden": false,
          "outputs_hidden": false
        },
        "nteract": {
          "transient": {
            "deleting": false
          }
        },
        "gather": {
          "logged": 1632839160914
        }
      }
    },
    {
      "cell_type": "code",
      "source": [
        "service = Webservice(ws, webservice_name) \r\n",
        "\r\n",
        "uri = service.scoring_uri\r\n",
        "key =service.get_keys()[0]\r\n",
        "\r\n",
        "print(uri)\r\n",
        "\r\n",
        "sampleSize = round(4/len(df_pd),4)\r\n",
        "testdf = df_pd.sample(frac=sampleSize)\r\n",
        "\r\n",
        "X = testdf.drop('rul',axis=1)\r\n",
        "y = testdf.rul.tolist()\r\n",
        "\r\n",
        "\r\n",
        "input_data = json.dumps(X.to_json( orient='records')) # Create JSON of sample records    \r\n",
        "\r\n",
        "headers = {'Content-Type':'application/json'}\r\n",
        "\r\n",
        "#for AKS deployment you'd need to the service key in the header as well    \r\n",
        "headers = {'Content-Type':'application/json',  'Authorization':('Bearer '+ key)} \r\n",
        "\r\n",
        "resp = requests.post(uri, input_data, headers=headers)\r\n",
        "try:\r\n",
        "    print(\"POST to url\", uri)\r\n",
        "    print(\"input data:\", input_data)\r\n",
        "    print(\"label:\", y)\r\n",
        "    print(\"prediction:\", resp.text)\r\n",
        "except Exception:\r\n",
        "    print(\"Web Service Not Found\")"
      ],
      "outputs": [
        {
          "output_type": "stream",
          "name": "stdout",
          "text": "http://4b50fc71-d9f3-4cec-b24c-bca46939b03e.southcentralus.azurecontainer.io/score\nPOST to url http://4b50fc71-d9f3-4cec-b24c-bca46939b03e.southcentralus.azurecontainer.io/score\ninput data: \"[{\\\"unit\\\":8,\\\"cycle\\\":32,\\\"os1\\\":0.0001,\\\"os2\\\":0.0002,\\\"os3\\\":100.0,\\\"sm1\\\":518.67,\\\"sm2\\\":642.87,\\\"sm3\\\":1594.16,\\\"sm4\\\":1413.85,\\\"sm5\\\":14.62,\\\"sm6\\\":21.61,\\\"sm7\\\":552.92,\\\"sm8\\\":2388.13,\\\"sm9\\\":9049.25,\\\"sm10\\\":1.3,\\\"sm11\\\":47.42,\\\"sm12\\\":521.58,\\\"sm13\\\":2388.17,\\\"sm14\\\":8125.78,\\\"sm15\\\":8.4686,\\\"sm16\\\":0.03,\\\"sm17\\\":394,\\\"sm18\\\":2388,\\\"sm19\\\":100.0,\\\"sm20\\\":38.73,\\\"sm21\\\":23.2709},{\\\"unit\\\":78,\\\"cycle\\\":117,\\\"os1\\\":0.001,\\\"os2\\\":0.0004,\\\"os3\\\":100.0,\\\"sm1\\\":518.67,\\\"sm2\\\":641.81,\\\"sm3\\\":1585.26,\\\"sm4\\\":1396.06,\\\"sm5\\\":14.62,\\\"sm6\\\":21.61,\\\"sm7\\\":554.94,\\\"sm8\\\":2388.05,\\\"sm9\\\":9059.54,\\\"sm10\\\":1.3,\\\"sm11\\\":47.38,\\\"sm12\\\":521.83,\\\"sm13\\\":2388.01,\\\"sm14\\\":8140.81,\\\"sm15\\\":8.3748,\\\"sm16\\\":0.03,\\\"sm17\\\":389,\\\"sm18\\\":2388,\\\"sm19\\\":100.0,\\\"sm20\\\":39.12,\\\"sm21\\\":23.3804},{\\\"unit\\\":37,\\\"cycle\\\":4,\\\"os1\\\":-0.0016,\\\"os2\\\":-0.0005,\\\"os3\\\":100.0,\\\"sm1\\\":518.67,\\\"sm2\\\":641.91,\\\"sm3\\\":1588.28,\\\"sm4\\\":1405.6,\\\"sm5\\\":14.62,\\\"sm6\\\":21.61,\\\"sm7\\\":553.74,\\\"sm8\\\":2388.1,\\\"sm9\\\":9041.67,\\\"sm10\\\":1.3,\\\"sm11\\\":47.41,\\\"sm12\\\":521.94,\\\"sm13\\\":2388.12,\\\"sm14\\\":8122.85,\\\"sm15\\\":8.4248,\\\"sm16\\\":0.03,\\\"sm17\\\":392,\\\"sm18\\\":2388,\\\"sm19\\\":100.0,\\\"sm20\\\":38.93,\\\"sm21\\\":23.2615},{\\\"unit\\\":41,\\\"cycle\\\":215,\\\"os1\\\":0.0,\\\"os2\\\":-0.0002,\\\"os3\\\":100.0,\\\"sm1\\\":518.67,\\\"sm2\\\":643.82,\\\"sm3\\\":1610.3,\\\"sm4\\\":1423.4,\\\"sm5\\\":14.62,\\\"sm6\\\":21.61,\\\"sm7\\\":552.7,\\\"sm8\\\":2388.22,\\\"sm9\\\":9147.43,\\\"sm10\\\":1.3,\\\"sm11\\\":48.17,\\\"sm12\\\":519.94,\\\"sm13\\\":2388.19,\\\"sm14\\\":8216.11,\\\"sm15\\\":8.5354,\\\"sm16\\\":0.03,\\\"sm17\\\":398,\\\"sm18\\\":2388,\\\"sm19\\\":100.0,\\\"sm20\\\":38.47,\\\"sm21\\\":23.0304}]\"\nlabel: [118, 114, 166, 1]\nprediction: \"[117.48529400541067, 115.02513118394936, 164.45505004211452, 0.6138669655337576]\"\n"
        }
      ],
      "execution_count": 5,
      "metadata": {
        "jupyter": {
          "source_hidden": false,
          "outputs_hidden": false
        },
        "nteract": {
          "transient": {
            "deleting": false
          }
        },
        "gather": {
          "logged": 1632839162611
        }
      }
    }
  ],
  "metadata": {
    "kernelspec": {
      "name": "python3-azureml",
      "language": "python",
      "display_name": "Python 3.6 - AzureML"
    },
    "language_info": {
      "name": "python",
      "version": "3.6.9",
      "mimetype": "text/x-python",
      "codemirror_mode": {
        "name": "ipython",
        "version": 3
      },
      "pygments_lexer": "ipython3",
      "nbconvert_exporter": "python",
      "file_extension": ".py"
    },
    "kernel_info": {
      "name": "python3-azureml"
    },
    "nteract": {
      "version": "nteract-front-end@1.0.0"
    },
    "microsoft": {
      "host": {
        "AzureML": {
          "notebookHasBeenCompleted": true
        }
      }
    }
  },
  "nbformat": 4,
  "nbformat_minor": 2
}