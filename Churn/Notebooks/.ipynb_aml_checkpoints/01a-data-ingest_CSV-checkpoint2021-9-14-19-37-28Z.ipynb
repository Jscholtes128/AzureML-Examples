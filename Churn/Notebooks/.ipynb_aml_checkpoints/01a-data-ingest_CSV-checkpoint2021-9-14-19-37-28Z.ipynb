{
  "cells": [
    {
      "cell_type": "code",
      "source": [
        "from azureml.core import Workspace, Dataset\r\n",
        "import numpy as np\r\n",
        "import pandas as pd\r\n",
        "\r\n",
        "workspace = Workspace.from_config()\r\n",
        "\r\n",
        "dataset = Dataset.get_by_name(workspace, name='Churn')\r\n",
        "df_pd = dataset.to_pandas_dataframe()\r\n",
        "df_pd.head(10)"
      ],
      "outputs": [
        {
          "output_type": "stream",
          "name": "stdout",
          "text": "Getting data access token with Assigned Identity (client_id=clientid).\n"
        },
        {
          "output_type": "execute_result",
          "execution_count": 1,
          "data": {
            "text/plain": "   CustomerId   Surname  CreditScore Geography  Gender  Age  Tenure  \\\n0    15634602  Hargrave          619    France  Female   42       2   \n1    15647311      Hill          608     Spain  Female   41       1   \n2    15619304      Onio          502    France  Female   42       8   \n3    15701354      Boni          699    France  Female   39       1   \n4    15737888  Mitchell          850     Spain  Female   43       2   \n5    15574012       Chu          645     Spain    Male   44       8   \n6    15592531  Bartlett          822    France    Male   50       7   \n7    15656148    Obinna          376   Germany  Female   29       4   \n8    15792365        He          501    France    Male   44       4   \n9    15592389        H?          684    France    Male   27       2   \n\n     Balance  NumOfProducts  HasCrCard  IsActiveMember  EstimatedSalary  \\\n0       0.00              1          1               1        101348.88   \n1   83807.86              1          0               1        112542.58   \n2  159660.80              3          1               0        113931.57   \n3       0.00              2          0               0         93826.63   \n4  125510.82              1          1               1         79084.10   \n5  113755.78              2          1               0        149756.71   \n6       0.00              2          1               1         10062.80   \n7  115046.74              4          1               0        119346.88   \n8  142051.07              2          0               1         74940.50   \n9  134603.88              1          1               1         71725.73   \n\n   Exited  \n0       1  \n1       0  \n2       1  \n3       0  \n4       0  \n5       1  \n6       0  \n7       1  \n8       0  \n9       0  ",
            "text/html": "<div>\n<style scoped>\n    .dataframe tbody tr th:only-of-type {\n        vertical-align: middle;\n    }\n\n    .dataframe tbody tr th {\n        vertical-align: top;\n    }\n\n    .dataframe thead th {\n        text-align: right;\n    }\n</style>\n<table border=\"1\" class=\"dataframe\">\n  <thead>\n    <tr style=\"text-align: right;\">\n      <th></th>\n      <th>CustomerId</th>\n      <th>Surname</th>\n      <th>CreditScore</th>\n      <th>Geography</th>\n      <th>Gender</th>\n      <th>Age</th>\n      <th>Tenure</th>\n      <th>Balance</th>\n      <th>NumOfProducts</th>\n      <th>HasCrCard</th>\n      <th>IsActiveMember</th>\n      <th>EstimatedSalary</th>\n      <th>Exited</th>\n    </tr>\n  </thead>\n  <tbody>\n    <tr>\n      <th>0</th>\n      <td>15634602</td>\n      <td>Hargrave</td>\n      <td>619</td>\n      <td>France</td>\n      <td>Female</td>\n      <td>42</td>\n      <td>2</td>\n      <td>0.00</td>\n      <td>1</td>\n      <td>1</td>\n      <td>1</td>\n      <td>101348.88</td>\n      <td>1</td>\n    </tr>\n    <tr>\n      <th>1</th>\n      <td>15647311</td>\n      <td>Hill</td>\n      <td>608</td>\n      <td>Spain</td>\n      <td>Female</td>\n      <td>41</td>\n      <td>1</td>\n      <td>83807.86</td>\n      <td>1</td>\n      <td>0</td>\n      <td>1</td>\n      <td>112542.58</td>\n      <td>0</td>\n    </tr>\n    <tr>\n      <th>2</th>\n      <td>15619304</td>\n      <td>Onio</td>\n      <td>502</td>\n      <td>France</td>\n      <td>Female</td>\n      <td>42</td>\n      <td>8</td>\n      <td>159660.80</td>\n      <td>3</td>\n      <td>1</td>\n      <td>0</td>\n      <td>113931.57</td>\n      <td>1</td>\n    </tr>\n    <tr>\n      <th>3</th>\n      <td>15701354</td>\n      <td>Boni</td>\n      <td>699</td>\n      <td>France</td>\n      <td>Female</td>\n      <td>39</td>\n      <td>1</td>\n      <td>0.00</td>\n      <td>2</td>\n      <td>0</td>\n      <td>0</td>\n      <td>93826.63</td>\n      <td>0</td>\n    </tr>\n    <tr>\n      <th>4</th>\n      <td>15737888</td>\n      <td>Mitchell</td>\n      <td>850</td>\n      <td>Spain</td>\n      <td>Female</td>\n      <td>43</td>\n      <td>2</td>\n      <td>125510.82</td>\n      <td>1</td>\n      <td>1</td>\n      <td>1</td>\n      <td>79084.10</td>\n      <td>0</td>\n    </tr>\n    <tr>\n      <th>5</th>\n      <td>15574012</td>\n      <td>Chu</td>\n      <td>645</td>\n      <td>Spain</td>\n      <td>Male</td>\n      <td>44</td>\n      <td>8</td>\n      <td>113755.78</td>\n      <td>2</td>\n      <td>1</td>\n      <td>0</td>\n      <td>149756.71</td>\n      <td>1</td>\n    </tr>\n    <tr>\n      <th>6</th>\n      <td>15592531</td>\n      <td>Bartlett</td>\n      <td>822</td>\n      <td>France</td>\n      <td>Male</td>\n      <td>50</td>\n      <td>7</td>\n      <td>0.00</td>\n      <td>2</td>\n      <td>1</td>\n      <td>1</td>\n      <td>10062.80</td>\n      <td>0</td>\n    </tr>\n    <tr>\n      <th>7</th>\n      <td>15656148</td>\n      <td>Obinna</td>\n      <td>376</td>\n      <td>Germany</td>\n      <td>Female</td>\n      <td>29</td>\n      <td>4</td>\n      <td>115046.74</td>\n      <td>4</td>\n      <td>1</td>\n      <td>0</td>\n      <td>119346.88</td>\n      <td>1</td>\n    </tr>\n    <tr>\n      <th>8</th>\n      <td>15792365</td>\n      <td>He</td>\n      <td>501</td>\n      <td>France</td>\n      <td>Male</td>\n      <td>44</td>\n      <td>4</td>\n      <td>142051.07</td>\n      <td>2</td>\n      <td>0</td>\n      <td>1</td>\n      <td>74940.50</td>\n      <td>0</td>\n    </tr>\n    <tr>\n      <th>9</th>\n      <td>15592389</td>\n      <td>H?</td>\n      <td>684</td>\n      <td>France</td>\n      <td>Male</td>\n      <td>27</td>\n      <td>2</td>\n      <td>134603.88</td>\n      <td>1</td>\n      <td>1</td>\n      <td>1</td>\n      <td>71725.73</td>\n      <td>0</td>\n    </tr>\n  </tbody>\n</table>\n</div>"
          },
          "metadata": {}
        }
      ],
      "execution_count": 1,
      "metadata": {
        "gather": {
          "logged": 1634240219822
        }
      }
    },
    {
      "cell_type": "code",
      "source": [
        "df_pd = df_pd.groupby('unit').apply(assignrul)\r\n",
        "df_pd.to_csv('data/turbofan.csv', index=False)"
      ],
      "outputs": [],
      "execution_count": null,
      "metadata": {
        "jupyter": {
          "source_hidden": false,
          "outputs_hidden": false
        },
        "nteract": {
          "transient": {
            "deleting": false
          }
        }
      }
    }
  ],
  "metadata": {
    "kernelspec": {
      "display_name": "Python 3.6 - AzureML",
      "language": "python",
      "name": "python3-azureml"
    },
    "language_info": {
      "codemirror_mode": {
        "name": "ipython",
        "version": 3
      },
      "file_extension": ".py",
      "mimetype": "text/x-python",
      "name": "python",
      "nbconvert_exporter": "python",
      "pygments_lexer": "ipython3",
      "version": "3.6.8"
    },
    "microsoft": {
      "host": {
        "AzureML": {
          "notebookHasBeenCompleted": true
        }
      }
    },
    "nteract": {
      "version": "nteract-front-end@1.0.0"
    }
  },
  "nbformat": 4,
  "nbformat_minor": 0
}