{
  "cells": [
    {
      "cell_type": "code",
      "source": [
        "import numpy as np\r\n",
        "import pandas as pd\r\n",
        "import json\r\n",
        "import requests\r\n",
        "from azureml.core.webservice import AciWebservice, Webservice\r\n",
        "from azureml.core.image import ContainerImage\r\n",
        "from azureml.core.experiment import Experiment\r\n",
        "from azureml.core import Workspace, Dataset\r\n"
      ],
      "outputs": [],
      "execution_count": 4,
      "metadata": {
        "gather": {
          "logged": 1632774259755
        }
      }
    },
    {
      "cell_type": "code",
      "source": [
        "ws = Workspace.from_config()"
      ],
      "outputs": [],
      "execution_count": 3,
      "metadata": {
        "jupyter": {
          "source_hidden": false,
          "outputs_hidden": false
        },
        "nteract": {
          "transient": {
            "deleting": false
          }
        },
        "gather": {
          "logged": 1632774171611
        }
      }
    },
    {
      "cell_type": "code",
      "source": [
        "webservice_name = 'turbofan-rul-service'"
      ],
      "outputs": [],
      "execution_count": null,
      "metadata": {
        "jupyter": {
          "source_hidden": false,
          "outputs_hidden": false
        },
        "nteract": {
          "transient": {
            "deleting": false
          }
        }
      }
    },
    {
      "cell_type": "code",
      "source": [
        "dataset = Dataset.get_by_name(ws, name='NASA TurboFan Raw')\r\n",
        "df_pd = dataset.to_pandas_dataframe()"
      ],
      "outputs": [],
      "execution_count": null,
      "metadata": {
        "jupyter": {
          "source_hidden": false,
          "outputs_hidden": false
        },
        "nteract": {
          "transient": {
            "deleting": false
          }
        }
      }
    },
    {
      "cell_type": "code",
      "source": [
        "service = Webservice(ws, webservice_name) \r\n",
        "\r\n",
        "uri = service.scoring_uri\r\n",
        "key =service.get_keys()[0]\r\n",
        "\r\n",
        "print(uri)\r\n",
        "\r\n",
        "sampleSize = round(2/len(train),4)\r\n",
        "testdf = df_pd.sample(frac=sampleSize)\r\n",
        "\r\n",
        "X = testdf.drop('rul',axis=1)\r\n",
        "y = testdf.rul.tolist()\r\n",
        "\r\n",
        "\r\n",
        "input_data = json.dumps(X.to_json( orient='records')) # Create JSON of sample records    \r\n",
        "\r\n",
        "headers = {'Content-Type':'application/json'}\r\n",
        "\r\n",
        "#for AKS deployment you'd need to the service key in the header as well    \r\n",
        "headers = {'Content-Type':'application/json',  'Authorization':('Bearer '+ key)} \r\n",
        "\r\n",
        "\r\n",
        "resp = requests.post(uri, input_data, headers=headers)\r\n",
        "try:\r\n",
        "    print(\"POST to url\", uri)\r\n",
        "    print(\"input data:\", input_data)\r\n",
        "    print(\"label:\", y)\r\n",
        "    print(\"prediction:\", resp.text)\r\n",
        "except Exception:\r\n",
        "    print(\"Web Service Not Found\")"
      ],
      "outputs": [],
      "execution_count": null,
      "metadata": {
        "jupyter": {
          "source_hidden": false,
          "outputs_hidden": false
        },
        "nteract": {
          "transient": {
            "deleting": false
          }
        }
      }
    }
  ],
  "metadata": {
    "kernelspec": {
      "name": "python3-azureml",
      "language": "python",
      "display_name": "Python 3.6 - AzureML"
    },
    "language_info": {
      "name": "python",
      "version": "3.6.9",
      "mimetype": "text/x-python",
      "codemirror_mode": {
        "name": "ipython",
        "version": 3
      },
      "pygments_lexer": "ipython3",
      "nbconvert_exporter": "python",
      "file_extension": ".py"
    },
    "kernel_info": {
      "name": "python3-azureml"
    },
    "nteract": {
      "version": "nteract-front-end@1.0.0"
    }
  },
  "nbformat": 4,
  "nbformat_minor": 2
}